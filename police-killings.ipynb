{
 "cells": [
  {
   "attachments": {},
   "cell_type": "markdown",
   "metadata": {},
   "source": [
    "# Police Killings in Austin\n",
    "\n",
    "This is a project for my data science blog [Quasi Qualified](https://quasiqualified.com/). The purpose of this project is to assess the statistics cited by the Wall Street Journal in a November 19, 2022, article about the killing of Rajan Moonesinghe in Austin, Texas. See that article [here](https://https://www.wsj.com/articles/entrepreneurs-death-at-hands-of-austin-police-prompts-calls-for-change-11671458081). Specifically, the hightlights what appears to be Austin's unique struggle with police killings. I assess three statistical claims.\n",
    "\n",
    "Read my post [here](https://www.quasiqualified.com/posts/austin-police-killings/).\n",
    "\n",
    "Primarily using [Plotly for Python](https://plotly.com/python/)\n",
    "\n",
    "Very grateful to the data team at the Washington Post for their [Fatal Force Database](https://www.washingtonpost.com/graphics/investigations/police-shootings-database/). It's a lot of (thankless) work compiling and cleaning nationwide statistics about police killings. Their contribution helps further research and conversation about an alarming topic. As I mention at the end of my post, police violence, even when justified, should be avoided at all costs. The effort of the WaPo data team furthers that goal."
   ]
  },
  {
   "cell_type": "code",
   "execution_count": 13,
   "metadata": {},
   "outputs": [
    {
     "data": {
      "text/plain": [
       "'c:\\\\Users\\\\thoma\\\\OneDrive\\\\Documents\\\\data_science\\\\Projects\\\\data-police-shootings'"
      ]
     },
     "execution_count": 13,
     "metadata": {},
     "output_type": "execute_result"
    }
   ],
   "source": [
    "import pandas as pd\n",
    "import numpy as np\n",
    "import plotly.express as px\n",
    "import plotly.graph_objects as go\n",
    "import plotly.io as pio\n",
    "pio.templates.default = \"plotly_white\"\n",
    "px.set_mapbox_access_token(open('C:/Users/thoma/OneDrive/Documents/data_science/mapbox-token-tpm.txt').read())\n",
    "%pwd\n"
   ]
  },
  {
   "cell_type": "code",
   "execution_count": 14,
   "metadata": {},
   "outputs": [
    {
     "name": "stdout",
     "output_type": "stream",
     "text": [
      "<class 'pandas.core.frame.DataFrame'>\n",
      "RangeIndex: 8020 entries, 0 to 8019\n",
      "Data columns (total 19 columns):\n",
      " #   Column                      Non-Null Count  Dtype  \n",
      "---  ------                      --------------  -----  \n",
      " 0   id                          8020 non-null   int64  \n",
      " 1   date                        8020 non-null   object \n",
      " 2   threat_type                 8017 non-null   object \n",
      " 3   flee_status                 7047 non-null   object \n",
      " 4   armed_with                  7810 non-null   object \n",
      " 5   city                        8017 non-null   object \n",
      " 6   county                      3165 non-null   object \n",
      " 7   state                       8020 non-null   object \n",
      " 8   latitude                    7177 non-null   float64\n",
      " 9   longitude                   7177 non-null   float64\n",
      " 10  location_precision          7177 non-null   object \n",
      " 11  name                        7569 non-null   object \n",
      " 12  age                         7522 non-null   float64\n",
      " 13  gender                      7988 non-null   object \n",
      " 14  race                        7017 non-null   object \n",
      " 15  race_source                 7039 non-null   object \n",
      " 16  was_mental_illness_related  8020 non-null   bool   \n",
      " 17  body_camera                 8020 non-null   bool   \n",
      " 18  agency_ids                  8020 non-null   object \n",
      "dtypes: bool(2), float64(3), int64(1), object(13)\n",
      "memory usage: 1.1+ MB\n"
     ]
    }
   ],
   "source": [
    "df = pd.read_csv(\"v2/fatal-police-shootings-data.csv\")\n",
    "df.info()"
   ]
  },
  {
   "cell_type": "code",
   "execution_count": 15,
   "metadata": {},
   "outputs": [
    {
     "name": "stderr",
     "output_type": "stream",
     "text": [
      "C:\\Users\\thoma\\AppData\\Local\\Temp\\ipykernel_9912\\3699714675.py:2: SettingWithCopyWarning:\n",
      "\n",
      "\n",
      "A value is trying to be set on a copy of a slice from a DataFrame\n",
      "\n",
      "See the caveats in the documentation: https://pandas.pydata.org/pandas-docs/stable/user_guide/indexing.html#returning-a-view-versus-a-copy\n",
      "\n",
      "C:\\Users\\thoma\\AppData\\Local\\Temp\\ipykernel_9912\\3699714675.py:3: SettingWithCopyWarning:\n",
      "\n",
      "\n",
      "A value is trying to be set on a copy of a slice from a DataFrame.\n",
      "Try using .loc[row_indexer,col_indexer] = value instead\n",
      "\n",
      "See the caveats in the documentation: https://pandas.pydata.org/pandas-docs/stable/user_guide/indexing.html#returning-a-view-versus-a-copy\n",
      "\n",
      "C:\\Users\\thoma\\AppData\\Local\\Temp\\ipykernel_9912\\3699714675.py:4: SettingWithCopyWarning:\n",
      "\n",
      "\n",
      "A value is trying to be set on a copy of a slice from a DataFrame.\n",
      "Try using .loc[row_indexer,col_indexer] = value instead\n",
      "\n",
      "See the caveats in the documentation: https://pandas.pydata.org/pandas-docs/stable/user_guide/indexing.html#returning-a-view-versus-a-copy\n",
      "\n"
     ]
    },
    {
     "data": {
      "text/html": [
       "<div>\n",
       "<style scoped>\n",
       "    .dataframe tbody tr th:only-of-type {\n",
       "        vertical-align: middle;\n",
       "    }\n",
       "\n",
       "    .dataframe tbody tr th {\n",
       "        vertical-align: top;\n",
       "    }\n",
       "\n",
       "    .dataframe thead th {\n",
       "        text-align: right;\n",
       "    }\n",
       "</style>\n",
       "<table border=\"1\" class=\"dataframe\">\n",
       "  <thead>\n",
       "    <tr style=\"text-align: right;\">\n",
       "      <th></th>\n",
       "      <th>id</th>\n",
       "      <th>date</th>\n",
       "      <th>threat_type</th>\n",
       "      <th>flee_status</th>\n",
       "      <th>armed_with</th>\n",
       "      <th>city</th>\n",
       "      <th>county</th>\n",
       "      <th>state</th>\n",
       "      <th>latitude</th>\n",
       "      <th>longitude</th>\n",
       "      <th>location_precision</th>\n",
       "      <th>name</th>\n",
       "      <th>age</th>\n",
       "      <th>gender</th>\n",
       "      <th>race</th>\n",
       "      <th>race_source</th>\n",
       "      <th>was_mental_illness_related</th>\n",
       "      <th>body_camera</th>\n",
       "      <th>agency_ids</th>\n",
       "      <th>incident_number</th>\n",
       "    </tr>\n",
       "  </thead>\n",
       "  <tbody>\n",
       "    <tr>\n",
       "      <th>7471</th>\n",
       "      <td>8123</td>\n",
       "      <td>2022-06-12</td>\n",
       "      <td>threat</td>\n",
       "      <td>not</td>\n",
       "      <td>knife</td>\n",
       "      <td>Austin</td>\n",
       "      <td>NaN</td>\n",
       "      <td>TX</td>\n",
       "      <td>30.321218</td>\n",
       "      <td>-97.711923</td>\n",
       "      <td>not_available</td>\n",
       "      <td>Carlos Eli Chacon-Castillo</td>\n",
       "      <td>42.0</td>\n",
       "      <td>male</td>\n",
       "      <td>NaN</td>\n",
       "      <td>NaN</td>\n",
       "      <td>False</td>\n",
       "      <td>True</td>\n",
       "      <td>141</td>\n",
       "      <td>32</td>\n",
       "    </tr>\n",
       "    <tr>\n",
       "      <th>7477</th>\n",
       "      <td>8134</td>\n",
       "      <td>2022-06-14</td>\n",
       "      <td>undetermined</td>\n",
       "      <td>NaN</td>\n",
       "      <td>undetermined</td>\n",
       "      <td>Austin</td>\n",
       "      <td>NaN</td>\n",
       "      <td>TX</td>\n",
       "      <td>30.368548</td>\n",
       "      <td>-97.694425</td>\n",
       "      <td>not_available</td>\n",
       "      <td>Michael Christopher Carter</td>\n",
       "      <td>34.0</td>\n",
       "      <td>male</td>\n",
       "      <td>White</td>\n",
       "      <td>not_available</td>\n",
       "      <td>False</td>\n",
       "      <td>False</td>\n",
       "      <td>3492</td>\n",
       "      <td>33</td>\n",
       "    </tr>\n",
       "    <tr>\n",
       "      <th>7721</th>\n",
       "      <td>8684</td>\n",
       "      <td>2022-09-02</td>\n",
       "      <td>shoot</td>\n",
       "      <td>car</td>\n",
       "      <td>gun</td>\n",
       "      <td>Austin</td>\n",
       "      <td>NaN</td>\n",
       "      <td>TX</td>\n",
       "      <td>30.405121</td>\n",
       "      <td>-97.663901</td>\n",
       "      <td>not_available</td>\n",
       "      <td>Joshua Butler</td>\n",
       "      <td>44.0</td>\n",
       "      <td>male</td>\n",
       "      <td>NaN</td>\n",
       "      <td>NaN</td>\n",
       "      <td>False</td>\n",
       "      <td>False</td>\n",
       "      <td>3200</td>\n",
       "      <td>34</td>\n",
       "    </tr>\n",
       "    <tr>\n",
       "      <th>7784</th>\n",
       "      <td>8455</td>\n",
       "      <td>2022-09-23</td>\n",
       "      <td>threat</td>\n",
       "      <td>not</td>\n",
       "      <td>gun</td>\n",
       "      <td>Austin</td>\n",
       "      <td>NaN</td>\n",
       "      <td>TX</td>\n",
       "      <td>30.227891</td>\n",
       "      <td>-97.703363</td>\n",
       "      <td>not_available</td>\n",
       "      <td>Antonio Gonzales</td>\n",
       "      <td>29.0</td>\n",
       "      <td>male</td>\n",
       "      <td>Hispanic</td>\n",
       "      <td>not_available</td>\n",
       "      <td>True</td>\n",
       "      <td>False</td>\n",
       "      <td>141</td>\n",
       "      <td>35</td>\n",
       "    </tr>\n",
       "    <tr>\n",
       "      <th>7939</th>\n",
       "      <td>8595</td>\n",
       "      <td>2022-11-15</td>\n",
       "      <td>shoot</td>\n",
       "      <td>not</td>\n",
       "      <td>gun</td>\n",
       "      <td>Austin</td>\n",
       "      <td>NaN</td>\n",
       "      <td>TX</td>\n",
       "      <td>30.244151</td>\n",
       "      <td>-97.761640</td>\n",
       "      <td>not_available</td>\n",
       "      <td>Rajan David Moonesinghe</td>\n",
       "      <td>33.0</td>\n",
       "      <td>male</td>\n",
       "      <td>Asian</td>\n",
       "      <td>photo</td>\n",
       "      <td>False</td>\n",
       "      <td>False</td>\n",
       "      <td>141</td>\n",
       "      <td>36</td>\n",
       "    </tr>\n",
       "  </tbody>\n",
       "</table>\n",
       "</div>"
      ],
      "text/plain": [
       "        id       date   threat_type flee_status    armed_with    city county  \\\n",
       "7471  8123 2022-06-12        threat         not         knife  Austin    NaN   \n",
       "7477  8134 2022-06-14  undetermined         NaN  undetermined  Austin    NaN   \n",
       "7721  8684 2022-09-02         shoot         car           gun  Austin    NaN   \n",
       "7784  8455 2022-09-23        threat         not           gun  Austin    NaN   \n",
       "7939  8595 2022-11-15         shoot         not           gun  Austin    NaN   \n",
       "\n",
       "     state   latitude  longitude location_precision  \\\n",
       "7471    TX  30.321218 -97.711923      not_available   \n",
       "7477    TX  30.368548 -97.694425      not_available   \n",
       "7721    TX  30.405121 -97.663901      not_available   \n",
       "7784    TX  30.227891 -97.703363      not_available   \n",
       "7939    TX  30.244151 -97.761640      not_available   \n",
       "\n",
       "                            name   age gender      race    race_source  \\\n",
       "7471  Carlos Eli Chacon-Castillo  42.0   male       NaN            NaN   \n",
       "7477  Michael Christopher Carter  34.0   male     White  not_available   \n",
       "7721               Joshua Butler  44.0   male       NaN            NaN   \n",
       "7784            Antonio Gonzales  29.0   male  Hispanic  not_available   \n",
       "7939     Rajan David Moonesinghe  33.0   male     Asian          photo   \n",
       "\n",
       "      was_mental_illness_related  body_camera agency_ids  incident_number  \n",
       "7471                       False         True        141               32  \n",
       "7477                       False        False       3492               33  \n",
       "7721                       False        False       3200               34  \n",
       "7784                        True        False        141               35  \n",
       "7939                       False        False        141               36  "
      ]
     },
     "execution_count": 15,
     "metadata": {},
     "output_type": "execute_result"
    }
   ],
   "source": [
    "atx = df.loc[(df.city=='Austin') & (df.state=='TX')]\n",
    "atx.race.replace({'H':'Hispanic','W':'White','B':'Black','A':'Asian'},inplace=True)\n",
    "atx.date = pd.to_datetime(atx.date)\n",
    "atx['incident_number'] = atx.reset_index().index + 1\n",
    "atx.tail(5)"
   ]
  },
  {
   "cell_type": "code",
   "execution_count": 16,
   "metadata": {},
   "outputs": [
    {
     "data": {
      "application/vnd.plotly.v1+json": {
       "config": {
        "displayModeBar": false,
        "plotlyServerURL": "https://plot.ly"
       },
       "data": [
        {
         "customdata": [
          [
           30.167126,
           -97.788524,
           "White",
           "2015-01-23T00:00:00",
           "point",
           true,
           "not",
           "gun"
          ],
          [
           30.243993,
           -97.89063,
           "White",
           "2015-02-08T00:00:00",
           "shoot",
           false,
           "not",
           "gun"
          ],
          [
           30.332257,
           -97.720787,
           "White",
           "2015-05-25T00:00:00",
           "point",
           true,
           "not",
           "gun"
          ],
          [
           30.269022,
           -97.740237,
           "White",
           "2015-07-05T00:00:00",
           "shoot",
           false,
           "foot",
           "gun"
          ],
          [
           30.380473,
           -97.701623,
           "White",
           "2015-07-05T00:00:00",
           "point",
           true,
           "not",
           "replica"
          ],
          [
           30.246799,
           -97.910238,
           "White",
           "2015-07-12T00:00:00",
           "point",
           false,
           "foot",
           "gun"
          ],
          [
           30.2700601,
           -97.7510993,
           "White",
           "2016-04-03T00:00:00",
           "shoot",
           false,
           "foot",
           "gun"
          ],
          [
           30.2207339,
           -97.8368958,
           "White",
           "2016-04-22T00:00:00",
           "attack",
           true,
           "not",
           "knife"
          ],
          [
           30.2281914,
           -97.8342828,
           "White",
           "2016-09-15T00:00:00",
           "shoot",
           false,
           "foot",
           "gun"
          ],
          [
           30.198358,
           -97.7892321,
           "White",
           "2016-10-16T00:00:00",
           "point",
           true,
           "not",
           "replica"
          ],
          [
           30.4453339,
           -97.8062206,
           "White",
           "2017-01-14T00:00:00",
           "shoot",
           false,
           "foot",
           "gun"
          ],
          [
           30.1981482,
           -97.6976992,
           "White",
           "2018-06-07T00:00:00",
           "threat",
           false,
           null,
           "knife"
          ],
          [
           30.32984,
           -97.678973,
           "White",
           "2019-09-22T00:00:00",
           "shoot",
           false,
           "not",
           "gun"
          ],
          [
           30.2342393,
           -97.716,
           "White",
           "2022-05-26T00:00:00",
           "shoot",
           false,
           null,
           "gun"
          ],
          [
           30.3685481,
           -97.6944251,
           "White",
           "2022-06-14T00:00:00",
           "undetermined",
           false,
           null,
           "undetermined"
          ]
         ],
         "hovertemplate": "<b>%{hovertext}</b><br><br>date=%{customdata[3]}<br>threat_type=%{customdata[4]}<br>was_mental_illness_related=%{customdata[5]}<br>flee_status=%{customdata[6]}<br>armed_with=%{customdata[7]}<extra></extra>",
         "hovertext": [
          "Robert Francis Mesch",
          "Sawyer Flache",
          "Cassandra Bolin",
          "Michael Holt",
          "Richard Munroe",
          "David Lepine",
          "Darrin Andrew Martin",
          "Tyler Hunkin",
          "Morgan Wayne Crocker Jr.",
          "Micah Dsheigh Jester",
          "Scott Laurance Gilpin",
          "Leslie Yolanda Salazar",
          null,
          "Robert Hammitt",
          "Michael Christopher Carter"
         ],
         "lat": [
          30.167126,
          30.243993,
          30.332257,
          30.269022,
          30.380473,
          30.246799,
          30.2700601,
          30.2207339,
          30.2281914,
          30.198358,
          30.4453339,
          30.1981482,
          30.32984,
          30.2342393,
          30.3685481
         ],
         "legendgroup": "White",
         "lon": [
          -97.788524,
          -97.89063,
          -97.720787,
          -97.740237,
          -97.701623,
          -97.910238,
          -97.7510993,
          -97.8368958,
          -97.8342828,
          -97.7892321,
          -97.8062206,
          -97.6976992,
          -97.678973,
          -97.716,
          -97.6944251
         ],
         "marker": {
          "color": "#636efa",
          "size": 12
         },
         "mode": "markers",
         "name": "White",
         "showlegend": true,
         "subplot": "mapbox",
         "type": "scattermapbox"
        },
        {
         "customdata": [
          [
           30.3962942,
           -97.6672871,
           "Black",
           "2016-02-08T00:00:00",
           "move",
           false,
           "not",
           "unarmed"
          ],
          [
           30.196568,
           -97.816376,
           "Black",
           "2017-02-22T00:00:00",
           "threat",
           true,
           "car",
           "knife"
          ],
          [
           30.2672824,
           -97.7390989,
           "Black",
           "2017-05-07T00:00:00",
           "shoot",
           false,
           "foot",
           "gun"
          ],
          [
           30.268066,
           -97.742813,
           "Black",
           "2018-08-17T00:00:00",
           "point",
           false,
           null,
           "gun"
          ],
          [
           30.3045438,
           -97.6812737,
           "Black",
           "2021-02-10T00:00:00",
           "shoot",
           false,
           "not",
           "gun"
          ]
         ],
         "hovertemplate": "<b>%{hovertext}</b><br><br>date=%{customdata[3]}<br>threat_type=%{customdata[4]}<br>was_mental_illness_related=%{customdata[5]}<br>flee_status=%{customdata[6]}<br>armed_with=%{customdata[7]}<extra></extra>",
         "hovertext": [
          "David Joseph",
          "Morgan London Rankins",
          "Landon Nobles",
          "Aquantis Jaymond Griffin",
          "Jordan Walton"
         ],
         "lat": [
          30.3962942,
          30.196568,
          30.2672824,
          30.268066,
          30.3045438
         ],
         "legendgroup": "Black",
         "lon": [
          -97.6672871,
          -97.816376,
          -97.7390989,
          -97.742813,
          -97.6812737
         ],
         "marker": {
          "color": "#EF553B",
          "size": 12
         },
         "mode": "markers",
         "name": "Black",
         "showlegend": true,
         "subplot": "mapbox",
         "type": "scattermapbox"
        },
        {
         "customdata": [
          [
           30.4345698,
           -97.7600148,
           "Hispanic",
           "2016-09-05T00:00:00",
           "threat",
           false,
           "not",
           "gun"
          ],
          [
           30.3722084,
           -97.6507371,
           "Hispanic",
           "2017-05-02T00:00:00",
           "threat",
           true,
           "not",
           "gun"
          ],
          [
           30.1974141,
           -97.7362318,
           "Hispanic",
           "2018-02-19T00:00:00",
           "point",
           true,
           "other",
           "gun"
          ],
          [
           30.2722242,
           -97.6883595,
           "Hispanic",
           "2018-03-07T00:00:00",
           "threat",
           true,
           "not",
           "blunt_object"
          ],
          [
           30.1977842,
           -97.7561,
           "Hispanic",
           "2018-03-25T00:00:00",
           "shoot",
           false,
           "not",
           "gun"
          ],
          [
           30.1631876,
           -97.7257815,
           "Hispanic",
           "2019-01-29T00:00:00",
           "point",
           true,
           "car",
           "gun"
          ],
          [
           30.3522346,
           -97.7955841,
           "Hispanic",
           "2019-04-28T00:00:00",
           "threat",
           true,
           "not",
           "gun"
          ],
          [
           30.2234716,
           -97.7295453,
           "Hispanic",
           "2020-04-24T00:00:00",
           "undetermined",
           false,
           "car",
           "unarmed"
          ],
          [
           30.2250206,
           -97.7258796,
           "Hispanic",
           "2021-01-05T00:00:00",
           "point",
           false,
           "not",
           "gun"
          ],
          [
           30.2278911,
           -97.7033628,
           "Hispanic",
           "2022-09-23T00:00:00",
           "threat",
           true,
           "not",
           "gun"
          ]
         ],
         "hovertemplate": "<b>%{hovertext}</b><br><br>date=%{customdata[3]}<br>threat_type=%{customdata[4]}<br>was_mental_illness_related=%{customdata[5]}<br>flee_status=%{customdata[6]}<br>armed_with=%{customdata[7]}<extra></extra>",
         "hovertext": [
          "Cesar Garcia",
          "Jason Sebastian Roque",
          "Thomas Vincent Alvarez",
          "Victor Ancira",
          "Hugo Alvarez",
          "Paul Cantu",
          "Carlos Manuel Dodero",
          "Michael Ramos",
          "Alexander Gonzales",
          "Antonio Gonzales"
         ],
         "lat": [
          30.4345698,
          30.3722084,
          30.1974141,
          30.2722242,
          30.1977842,
          30.1631876,
          30.3522346,
          30.2234716,
          30.2250206,
          30.2278911
         ],
         "legendgroup": "Hispanic",
         "lon": [
          -97.7600148,
          -97.6507371,
          -97.7362318,
          -97.6883595,
          -97.7561,
          -97.7257815,
          -97.7955841,
          -97.7295453,
          -97.7258796,
          -97.7033628
         ],
         "marker": {
          "color": "#00cc96",
          "size": 12
         },
         "mode": "markers",
         "name": "Hispanic",
         "showlegend": true,
         "subplot": "mapbox",
         "type": "scattermapbox"
        },
        {
         "customdata": [
          [
           30.2685609,
           -97.7538036,
           "Asian",
           "2019-07-31T00:00:00",
           "move",
           true,
           "not",
           "knife"
          ],
          [
           30.2441512,
           -97.7616402,
           "Asian",
           "2022-11-15T00:00:00",
           "shoot",
           false,
           "not",
           "gun"
          ]
         ],
         "hovertemplate": "<b>%{hovertext}</b><br><br>date=%{customdata[3]}<br>threat_type=%{customdata[4]}<br>was_mental_illness_related=%{customdata[5]}<br>flee_status=%{customdata[6]}<br>armed_with=%{customdata[7]}<extra></extra>",
         "hovertext": [
          "Mauris Nishanga DeSilva",
          "Rajan David Moonesinghe"
         ],
         "lat": [
          30.2685609,
          30.2441512
         ],
         "legendgroup": "Asian",
         "lon": [
          -97.7538036,
          -97.7616402
         ],
         "marker": {
          "color": "#ab63fa",
          "size": 12
         },
         "mode": "markers",
         "name": "Asian",
         "showlegend": true,
         "subplot": "mapbox",
         "type": "scattermapbox"
        }
       ],
       "layout": {
        "legend": {
         "title": {
          "text": "Race"
         },
         "tracegroupgap": 0,
         "x": 0.99,
         "xanchor": "right",
         "y": 0.95,
         "yanchor": "top"
        },
        "mapbox": {
         "accesstoken": "pk.eyJ1IjoidG1jYXVsZXkiLCJhIjoiY2wza2tncmZzMjJtcDNxcDZ5ZDBkMGNmciJ9.QXYubtefO-LDuz1XmcQ6eQ",
         "center": {
          "lat": 30.277612725000008,
          "lon": -97.74885037499999
         },
         "domain": {
          "x": [
           0,
           1
          ],
          "y": [
           0,
           1
          ]
         },
         "style": "light",
         "zoom": 10.5
        },
        "margin": {
         "b": 10,
         "l": 10,
         "r": 10,
         "t": 10
        },
        "template": {
         "data": {
          "bar": [
           {
            "error_x": {
             "color": "#2a3f5f"
            },
            "error_y": {
             "color": "#2a3f5f"
            },
            "marker": {
             "line": {
              "color": "white",
              "width": 0.5
             },
             "pattern": {
              "fillmode": "overlay",
              "size": 10,
              "solidity": 0.2
             }
            },
            "type": "bar"
           }
          ],
          "barpolar": [
           {
            "marker": {
             "line": {
              "color": "white",
              "width": 0.5
             },
             "pattern": {
              "fillmode": "overlay",
              "size": 10,
              "solidity": 0.2
             }
            },
            "type": "barpolar"
           }
          ],
          "carpet": [
           {
            "aaxis": {
             "endlinecolor": "#2a3f5f",
             "gridcolor": "#C8D4E3",
             "linecolor": "#C8D4E3",
             "minorgridcolor": "#C8D4E3",
             "startlinecolor": "#2a3f5f"
            },
            "baxis": {
             "endlinecolor": "#2a3f5f",
             "gridcolor": "#C8D4E3",
             "linecolor": "#C8D4E3",
             "minorgridcolor": "#C8D4E3",
             "startlinecolor": "#2a3f5f"
            },
            "type": "carpet"
           }
          ],
          "choropleth": [
           {
            "colorbar": {
             "outlinewidth": 0,
             "ticks": ""
            },
            "type": "choropleth"
           }
          ],
          "contour": [
           {
            "colorbar": {
             "outlinewidth": 0,
             "ticks": ""
            },
            "colorscale": [
             [
              0,
              "#0d0887"
             ],
             [
              0.1111111111111111,
              "#46039f"
             ],
             [
              0.2222222222222222,
              "#7201a8"
             ],
             [
              0.3333333333333333,
              "#9c179e"
             ],
             [
              0.4444444444444444,
              "#bd3786"
             ],
             [
              0.5555555555555556,
              "#d8576b"
             ],
             [
              0.6666666666666666,
              "#ed7953"
             ],
             [
              0.7777777777777778,
              "#fb9f3a"
             ],
             [
              0.8888888888888888,
              "#fdca26"
             ],
             [
              1,
              "#f0f921"
             ]
            ],
            "type": "contour"
           }
          ],
          "contourcarpet": [
           {
            "colorbar": {
             "outlinewidth": 0,
             "ticks": ""
            },
            "type": "contourcarpet"
           }
          ],
          "heatmap": [
           {
            "colorbar": {
             "outlinewidth": 0,
             "ticks": ""
            },
            "colorscale": [
             [
              0,
              "#0d0887"
             ],
             [
              0.1111111111111111,
              "#46039f"
             ],
             [
              0.2222222222222222,
              "#7201a8"
             ],
             [
              0.3333333333333333,
              "#9c179e"
             ],
             [
              0.4444444444444444,
              "#bd3786"
             ],
             [
              0.5555555555555556,
              "#d8576b"
             ],
             [
              0.6666666666666666,
              "#ed7953"
             ],
             [
              0.7777777777777778,
              "#fb9f3a"
             ],
             [
              0.8888888888888888,
              "#fdca26"
             ],
             [
              1,
              "#f0f921"
             ]
            ],
            "type": "heatmap"
           }
          ],
          "heatmapgl": [
           {
            "colorbar": {
             "outlinewidth": 0,
             "ticks": ""
            },
            "colorscale": [
             [
              0,
              "#0d0887"
             ],
             [
              0.1111111111111111,
              "#46039f"
             ],
             [
              0.2222222222222222,
              "#7201a8"
             ],
             [
              0.3333333333333333,
              "#9c179e"
             ],
             [
              0.4444444444444444,
              "#bd3786"
             ],
             [
              0.5555555555555556,
              "#d8576b"
             ],
             [
              0.6666666666666666,
              "#ed7953"
             ],
             [
              0.7777777777777778,
              "#fb9f3a"
             ],
             [
              0.8888888888888888,
              "#fdca26"
             ],
             [
              1,
              "#f0f921"
             ]
            ],
            "type": "heatmapgl"
           }
          ],
          "histogram": [
           {
            "marker": {
             "pattern": {
              "fillmode": "overlay",
              "size": 10,
              "solidity": 0.2
             }
            },
            "type": "histogram"
           }
          ],
          "histogram2d": [
           {
            "colorbar": {
             "outlinewidth": 0,
             "ticks": ""
            },
            "colorscale": [
             [
              0,
              "#0d0887"
             ],
             [
              0.1111111111111111,
              "#46039f"
             ],
             [
              0.2222222222222222,
              "#7201a8"
             ],
             [
              0.3333333333333333,
              "#9c179e"
             ],
             [
              0.4444444444444444,
              "#bd3786"
             ],
             [
              0.5555555555555556,
              "#d8576b"
             ],
             [
              0.6666666666666666,
              "#ed7953"
             ],
             [
              0.7777777777777778,
              "#fb9f3a"
             ],
             [
              0.8888888888888888,
              "#fdca26"
             ],
             [
              1,
              "#f0f921"
             ]
            ],
            "type": "histogram2d"
           }
          ],
          "histogram2dcontour": [
           {
            "colorbar": {
             "outlinewidth": 0,
             "ticks": ""
            },
            "colorscale": [
             [
              0,
              "#0d0887"
             ],
             [
              0.1111111111111111,
              "#46039f"
             ],
             [
              0.2222222222222222,
              "#7201a8"
             ],
             [
              0.3333333333333333,
              "#9c179e"
             ],
             [
              0.4444444444444444,
              "#bd3786"
             ],
             [
              0.5555555555555556,
              "#d8576b"
             ],
             [
              0.6666666666666666,
              "#ed7953"
             ],
             [
              0.7777777777777778,
              "#fb9f3a"
             ],
             [
              0.8888888888888888,
              "#fdca26"
             ],
             [
              1,
              "#f0f921"
             ]
            ],
            "type": "histogram2dcontour"
           }
          ],
          "mesh3d": [
           {
            "colorbar": {
             "outlinewidth": 0,
             "ticks": ""
            },
            "type": "mesh3d"
           }
          ],
          "parcoords": [
           {
            "line": {
             "colorbar": {
              "outlinewidth": 0,
              "ticks": ""
             }
            },
            "type": "parcoords"
           }
          ],
          "pie": [
           {
            "automargin": true,
            "type": "pie"
           }
          ],
          "scatter": [
           {
            "fillpattern": {
             "fillmode": "overlay",
             "size": 10,
             "solidity": 0.2
            },
            "type": "scatter"
           }
          ],
          "scatter3d": [
           {
            "line": {
             "colorbar": {
              "outlinewidth": 0,
              "ticks": ""
             }
            },
            "marker": {
             "colorbar": {
              "outlinewidth": 0,
              "ticks": ""
             }
            },
            "type": "scatter3d"
           }
          ],
          "scattercarpet": [
           {
            "marker": {
             "colorbar": {
              "outlinewidth": 0,
              "ticks": ""
             }
            },
            "type": "scattercarpet"
           }
          ],
          "scattergeo": [
           {
            "marker": {
             "colorbar": {
              "outlinewidth": 0,
              "ticks": ""
             }
            },
            "type": "scattergeo"
           }
          ],
          "scattergl": [
           {
            "marker": {
             "colorbar": {
              "outlinewidth": 0,
              "ticks": ""
             }
            },
            "type": "scattergl"
           }
          ],
          "scattermapbox": [
           {
            "marker": {
             "colorbar": {
              "outlinewidth": 0,
              "ticks": ""
             }
            },
            "type": "scattermapbox"
           }
          ],
          "scatterpolar": [
           {
            "marker": {
             "colorbar": {
              "outlinewidth": 0,
              "ticks": ""
             }
            },
            "type": "scatterpolar"
           }
          ],
          "scatterpolargl": [
           {
            "marker": {
             "colorbar": {
              "outlinewidth": 0,
              "ticks": ""
             }
            },
            "type": "scatterpolargl"
           }
          ],
          "scatterternary": [
           {
            "marker": {
             "colorbar": {
              "outlinewidth": 0,
              "ticks": ""
             }
            },
            "type": "scatterternary"
           }
          ],
          "surface": [
           {
            "colorbar": {
             "outlinewidth": 0,
             "ticks": ""
            },
            "colorscale": [
             [
              0,
              "#0d0887"
             ],
             [
              0.1111111111111111,
              "#46039f"
             ],
             [
              0.2222222222222222,
              "#7201a8"
             ],
             [
              0.3333333333333333,
              "#9c179e"
             ],
             [
              0.4444444444444444,
              "#bd3786"
             ],
             [
              0.5555555555555556,
              "#d8576b"
             ],
             [
              0.6666666666666666,
              "#ed7953"
             ],
             [
              0.7777777777777778,
              "#fb9f3a"
             ],
             [
              0.8888888888888888,
              "#fdca26"
             ],
             [
              1,
              "#f0f921"
             ]
            ],
            "type": "surface"
           }
          ],
          "table": [
           {
            "cells": {
             "fill": {
              "color": "#EBF0F8"
             },
             "line": {
              "color": "white"
             }
            },
            "header": {
             "fill": {
              "color": "#C8D4E3"
             },
             "line": {
              "color": "white"
             }
            },
            "type": "table"
           }
          ]
         },
         "layout": {
          "annotationdefaults": {
           "arrowcolor": "#2a3f5f",
           "arrowhead": 0,
           "arrowwidth": 1
          },
          "autotypenumbers": "strict",
          "coloraxis": {
           "colorbar": {
            "outlinewidth": 0,
            "ticks": ""
           }
          },
          "colorscale": {
           "diverging": [
            [
             0,
             "#8e0152"
            ],
            [
             0.1,
             "#c51b7d"
            ],
            [
             0.2,
             "#de77ae"
            ],
            [
             0.3,
             "#f1b6da"
            ],
            [
             0.4,
             "#fde0ef"
            ],
            [
             0.5,
             "#f7f7f7"
            ],
            [
             0.6,
             "#e6f5d0"
            ],
            [
             0.7,
             "#b8e186"
            ],
            [
             0.8,
             "#7fbc41"
            ],
            [
             0.9,
             "#4d9221"
            ],
            [
             1,
             "#276419"
            ]
           ],
           "sequential": [
            [
             0,
             "#0d0887"
            ],
            [
             0.1111111111111111,
             "#46039f"
            ],
            [
             0.2222222222222222,
             "#7201a8"
            ],
            [
             0.3333333333333333,
             "#9c179e"
            ],
            [
             0.4444444444444444,
             "#bd3786"
            ],
            [
             0.5555555555555556,
             "#d8576b"
            ],
            [
             0.6666666666666666,
             "#ed7953"
            ],
            [
             0.7777777777777778,
             "#fb9f3a"
            ],
            [
             0.8888888888888888,
             "#fdca26"
            ],
            [
             1,
             "#f0f921"
            ]
           ],
           "sequentialminus": [
            [
             0,
             "#0d0887"
            ],
            [
             0.1111111111111111,
             "#46039f"
            ],
            [
             0.2222222222222222,
             "#7201a8"
            ],
            [
             0.3333333333333333,
             "#9c179e"
            ],
            [
             0.4444444444444444,
             "#bd3786"
            ],
            [
             0.5555555555555556,
             "#d8576b"
            ],
            [
             0.6666666666666666,
             "#ed7953"
            ],
            [
             0.7777777777777778,
             "#fb9f3a"
            ],
            [
             0.8888888888888888,
             "#fdca26"
            ],
            [
             1,
             "#f0f921"
            ]
           ]
          },
          "colorway": [
           "#636efa",
           "#EF553B",
           "#00cc96",
           "#ab63fa",
           "#FFA15A",
           "#19d3f3",
           "#FF6692",
           "#B6E880",
           "#FF97FF",
           "#FECB52"
          ],
          "font": {
           "color": "#2a3f5f"
          },
          "geo": {
           "bgcolor": "white",
           "lakecolor": "white",
           "landcolor": "white",
           "showlakes": true,
           "showland": true,
           "subunitcolor": "#C8D4E3"
          },
          "hoverlabel": {
           "align": "left"
          },
          "hovermode": "closest",
          "mapbox": {
           "style": "light"
          },
          "paper_bgcolor": "white",
          "plot_bgcolor": "white",
          "polar": {
           "angularaxis": {
            "gridcolor": "#EBF0F8",
            "linecolor": "#EBF0F8",
            "ticks": ""
           },
           "bgcolor": "white",
           "radialaxis": {
            "gridcolor": "#EBF0F8",
            "linecolor": "#EBF0F8",
            "ticks": ""
           }
          },
          "scene": {
           "xaxis": {
            "backgroundcolor": "white",
            "gridcolor": "#DFE8F3",
            "gridwidth": 2,
            "linecolor": "#EBF0F8",
            "showbackground": true,
            "ticks": "",
            "zerolinecolor": "#EBF0F8"
           },
           "yaxis": {
            "backgroundcolor": "white",
            "gridcolor": "#DFE8F3",
            "gridwidth": 2,
            "linecolor": "#EBF0F8",
            "showbackground": true,
            "ticks": "",
            "zerolinecolor": "#EBF0F8"
           },
           "zaxis": {
            "backgroundcolor": "white",
            "gridcolor": "#DFE8F3",
            "gridwidth": 2,
            "linecolor": "#EBF0F8",
            "showbackground": true,
            "ticks": "",
            "zerolinecolor": "#EBF0F8"
           }
          },
          "shapedefaults": {
           "line": {
            "color": "#2a3f5f"
           }
          },
          "ternary": {
           "aaxis": {
            "gridcolor": "#DFE8F3",
            "linecolor": "#A2B1C6",
            "ticks": ""
           },
           "baxis": {
            "gridcolor": "#DFE8F3",
            "linecolor": "#A2B1C6",
            "ticks": ""
           },
           "bgcolor": "white",
           "caxis": {
            "gridcolor": "#DFE8F3",
            "linecolor": "#A2B1C6",
            "ticks": ""
           }
          },
          "title": {
           "x": 0.05
          },
          "xaxis": {
           "automargin": true,
           "gridcolor": "#EBF0F8",
           "linecolor": "#EBF0F8",
           "ticks": "",
           "title": {
            "standoff": 15
           },
           "zerolinecolor": "#EBF0F8",
           "zerolinewidth": 2
          },
          "yaxis": {
           "automargin": true,
           "gridcolor": "#EBF0F8",
           "linecolor": "#EBF0F8",
           "ticks": "",
           "title": {
            "standoff": 15
           },
           "zerolinecolor": "#EBF0F8",
           "zerolinewidth": 2
          }
         }
        }
       }
      }
     },
     "metadata": {},
     "output_type": "display_data"
    }
   ],
   "source": [
    "fig = px.scatter_mapbox(atx, lat=atx.latitude, lon=atx.longitude, color=atx.race, mapbox_style='light', hover_name='name', zoom=10.5,\n",
    "                        hover_data={'latitude': False, 'longitude': False, 'race': False, 'date': True, 'threat_type': True, 'was_mental_illness_related': True, 'flee_status': True, 'armed_with': True})\n",
    "fig.update_layout(margin=dict(t=10, b=10, l=10, r=10), legend=dict(\n",
    "    title='Race', xanchor='right', x=.99, yanchor='top', y=.95))\n",
    "fig.update_traces(marker=dict(size=12))\n",
    "fig.show(config={'displayModeBar': False})\n",
    "\n",
    "# fig.write_html('charts/map.html',config={'displaylogo':False})\n"
   ]
  },
  {
   "cell_type": "code",
   "execution_count": 17,
   "metadata": {},
   "outputs": [
    {
     "data": {
      "application/vnd.plotly.v1+json": {
       "config": {
        "displaylogo": false,
        "plotlyServerURL": "https://plot.ly"
       },
       "data": [
        {
         "customdata": [
          [
           "Robert Francis Mesch",
           true
          ],
          [
           "Sawyer Flache",
           false
          ],
          [
           "Cassandra Bolin",
           true
          ],
          [
           "Michael Holt",
           false
          ],
          [
           "Richard Munroe",
           true
          ],
          [
           "David Lepine",
           false
          ],
          [
           "David Joseph",
           false
          ],
          [
           "Darrin Andrew Martin",
           false
          ],
          [
           "Tyler Hunkin",
           true
          ],
          [
           "Cesar Garcia",
           false
          ],
          [
           "Morgan Wayne Crocker Jr.",
           false
          ],
          [
           "Micah Dsheigh Jester",
           true
          ],
          [
           "Scott Laurance Gilpin",
           false
          ],
          [
           "Morgan London Rankins",
           true
          ],
          [
           "Jason Sebastian Roque",
           true
          ],
          [
           "Landon Nobles",
           false
          ],
          [
           "Thomas Vincent Alvarez",
           true
          ],
          [
           "Victor Ancira",
           true
          ],
          [
           "Hugo Alvarez",
           false
          ],
          [
           "Leslie Yolanda Salazar",
           false
          ],
          [
           "Aquantis Jaymond Griffin",
           false
          ],
          [
           "Paul Cantu",
           true
          ],
          [
           "Carlos Manuel Dodero",
           true
          ],
          [
           "Mauris Nishanga DeSilva",
           true
          ],
          [
           null,
           false
          ],
          [
           "Michael Ramos",
           false
          ],
          [
           "Alexander Gonzales",
           false
          ],
          [
           "Jordan Walton",
           false
          ],
          [
           "Robert Richart",
           true
          ],
          [
           "Miguel Ruiz Rivera",
           false
          ],
          [
           "Robert Hammitt",
           false
          ],
          [
           "Carlos Eli Chacon-Castillo",
           false
          ],
          [
           "Michael Christopher Carter",
           false
          ],
          [
           "Joshua Butler",
           false
          ],
          [
           "Antonio Gonzales",
           true
          ],
          [
           "Rajan David Moonesinghe",
           false
          ]
         ],
         "fill": "tozeroy",
         "hovertemplate": "<b>%{customdata[0]}</b><br>Count of Killings: %{y}<br>During Mental Crisis: %{customdata[1]}",
         "hovertext": [
          "Robert Francis Mesch",
          "Sawyer Flache",
          "Cassandra Bolin",
          "Michael Holt",
          "Richard Munroe",
          "David Lepine",
          "David Joseph",
          "Darrin Andrew Martin",
          "Tyler Hunkin",
          "Cesar Garcia",
          "Morgan Wayne Crocker Jr.",
          "Micah Dsheigh Jester",
          "Scott Laurance Gilpin",
          "Morgan London Rankins",
          "Jason Sebastian Roque",
          "Landon Nobles",
          "Thomas Vincent Alvarez",
          "Victor Ancira",
          "Hugo Alvarez",
          "Leslie Yolanda Salazar",
          "Aquantis Jaymond Griffin",
          "Paul Cantu",
          "Carlos Manuel Dodero",
          "Mauris Nishanga DeSilva",
          null,
          "Michael Ramos",
          "Alexander Gonzales",
          "Jordan Walton",
          "Robert Richart",
          "Miguel Ruiz Rivera",
          "Robert Hammitt",
          "Carlos Eli Chacon-Castillo",
          "Michael Christopher Carter",
          "Joshua Butler",
          "Antonio Gonzales",
          "Rajan David Moonesinghe"
         ],
         "legendgroup": "",
         "marker": {
          "color": "#636efa",
          "symbol": "circle"
         },
         "mode": "markers",
         "name": "",
         "orientation": "v",
         "showlegend": false,
         "type": "scatter",
         "x": [
          "2015-01-23T00:00:00",
          "2015-02-08T00:00:00",
          "2015-05-25T00:00:00",
          "2015-07-05T00:00:00",
          "2015-07-05T00:00:00",
          "2015-07-12T00:00:00",
          "2016-02-08T00:00:00",
          "2016-04-03T00:00:00",
          "2016-04-22T00:00:00",
          "2016-09-05T00:00:00",
          "2016-09-15T00:00:00",
          "2016-10-16T00:00:00",
          "2017-01-14T00:00:00",
          "2017-02-22T00:00:00",
          "2017-05-02T00:00:00",
          "2017-05-07T00:00:00",
          "2018-02-19T00:00:00",
          "2018-03-07T00:00:00",
          "2018-03-25T00:00:00",
          "2018-06-07T00:00:00",
          "2018-08-17T00:00:00",
          "2019-01-29T00:00:00",
          "2019-04-28T00:00:00",
          "2019-07-31T00:00:00",
          "2019-09-22T00:00:00",
          "2020-04-24T00:00:00",
          "2021-01-05T00:00:00",
          "2021-02-10T00:00:00",
          "2021-10-27T00:00:00",
          "2022-03-06T00:00:00",
          "2022-05-26T00:00:00",
          "2022-06-12T00:00:00",
          "2022-06-14T00:00:00",
          "2022-09-02T00:00:00",
          "2022-09-23T00:00:00",
          "2022-11-15T00:00:00"
         ],
         "xaxis": "x",
         "y": [
          1,
          2,
          3,
          4,
          5,
          6,
          7,
          8,
          9,
          10,
          11,
          12,
          13,
          14,
          15,
          16,
          17,
          18,
          19,
          20,
          21,
          22,
          23,
          24,
          25,
          26,
          27,
          28,
          29,
          30,
          31,
          32,
          33,
          34,
          35,
          36
         ],
         "yaxis": "y"
        }
       ],
       "layout": {
        "hovermode": "x unified",
        "legend": {
         "title": {
          "text": "Mental Health Incident?"
         },
         "tracegroupgap": 0,
         "x": 0.05,
         "xanchor": "left"
        },
        "margin": {
         "t": 60
        },
        "template": {
         "data": {
          "bar": [
           {
            "error_x": {
             "color": "#2a3f5f"
            },
            "error_y": {
             "color": "#2a3f5f"
            },
            "marker": {
             "line": {
              "color": "white",
              "width": 0.5
             },
             "pattern": {
              "fillmode": "overlay",
              "size": 10,
              "solidity": 0.2
             }
            },
            "type": "bar"
           }
          ],
          "barpolar": [
           {
            "marker": {
             "line": {
              "color": "white",
              "width": 0.5
             },
             "pattern": {
              "fillmode": "overlay",
              "size": 10,
              "solidity": 0.2
             }
            },
            "type": "barpolar"
           }
          ],
          "carpet": [
           {
            "aaxis": {
             "endlinecolor": "#2a3f5f",
             "gridcolor": "#C8D4E3",
             "linecolor": "#C8D4E3",
             "minorgridcolor": "#C8D4E3",
             "startlinecolor": "#2a3f5f"
            },
            "baxis": {
             "endlinecolor": "#2a3f5f",
             "gridcolor": "#C8D4E3",
             "linecolor": "#C8D4E3",
             "minorgridcolor": "#C8D4E3",
             "startlinecolor": "#2a3f5f"
            },
            "type": "carpet"
           }
          ],
          "choropleth": [
           {
            "colorbar": {
             "outlinewidth": 0,
             "ticks": ""
            },
            "type": "choropleth"
           }
          ],
          "contour": [
           {
            "colorbar": {
             "outlinewidth": 0,
             "ticks": ""
            },
            "colorscale": [
             [
              0,
              "#0d0887"
             ],
             [
              0.1111111111111111,
              "#46039f"
             ],
             [
              0.2222222222222222,
              "#7201a8"
             ],
             [
              0.3333333333333333,
              "#9c179e"
             ],
             [
              0.4444444444444444,
              "#bd3786"
             ],
             [
              0.5555555555555556,
              "#d8576b"
             ],
             [
              0.6666666666666666,
              "#ed7953"
             ],
             [
              0.7777777777777778,
              "#fb9f3a"
             ],
             [
              0.8888888888888888,
              "#fdca26"
             ],
             [
              1,
              "#f0f921"
             ]
            ],
            "type": "contour"
           }
          ],
          "contourcarpet": [
           {
            "colorbar": {
             "outlinewidth": 0,
             "ticks": ""
            },
            "type": "contourcarpet"
           }
          ],
          "heatmap": [
           {
            "colorbar": {
             "outlinewidth": 0,
             "ticks": ""
            },
            "colorscale": [
             [
              0,
              "#0d0887"
             ],
             [
              0.1111111111111111,
              "#46039f"
             ],
             [
              0.2222222222222222,
              "#7201a8"
             ],
             [
              0.3333333333333333,
              "#9c179e"
             ],
             [
              0.4444444444444444,
              "#bd3786"
             ],
             [
              0.5555555555555556,
              "#d8576b"
             ],
             [
              0.6666666666666666,
              "#ed7953"
             ],
             [
              0.7777777777777778,
              "#fb9f3a"
             ],
             [
              0.8888888888888888,
              "#fdca26"
             ],
             [
              1,
              "#f0f921"
             ]
            ],
            "type": "heatmap"
           }
          ],
          "heatmapgl": [
           {
            "colorbar": {
             "outlinewidth": 0,
             "ticks": ""
            },
            "colorscale": [
             [
              0,
              "#0d0887"
             ],
             [
              0.1111111111111111,
              "#46039f"
             ],
             [
              0.2222222222222222,
              "#7201a8"
             ],
             [
              0.3333333333333333,
              "#9c179e"
             ],
             [
              0.4444444444444444,
              "#bd3786"
             ],
             [
              0.5555555555555556,
              "#d8576b"
             ],
             [
              0.6666666666666666,
              "#ed7953"
             ],
             [
              0.7777777777777778,
              "#fb9f3a"
             ],
             [
              0.8888888888888888,
              "#fdca26"
             ],
             [
              1,
              "#f0f921"
             ]
            ],
            "type": "heatmapgl"
           }
          ],
          "histogram": [
           {
            "marker": {
             "pattern": {
              "fillmode": "overlay",
              "size": 10,
              "solidity": 0.2
             }
            },
            "type": "histogram"
           }
          ],
          "histogram2d": [
           {
            "colorbar": {
             "outlinewidth": 0,
             "ticks": ""
            },
            "colorscale": [
             [
              0,
              "#0d0887"
             ],
             [
              0.1111111111111111,
              "#46039f"
             ],
             [
              0.2222222222222222,
              "#7201a8"
             ],
             [
              0.3333333333333333,
              "#9c179e"
             ],
             [
              0.4444444444444444,
              "#bd3786"
             ],
             [
              0.5555555555555556,
              "#d8576b"
             ],
             [
              0.6666666666666666,
              "#ed7953"
             ],
             [
              0.7777777777777778,
              "#fb9f3a"
             ],
             [
              0.8888888888888888,
              "#fdca26"
             ],
             [
              1,
              "#f0f921"
             ]
            ],
            "type": "histogram2d"
           }
          ],
          "histogram2dcontour": [
           {
            "colorbar": {
             "outlinewidth": 0,
             "ticks": ""
            },
            "colorscale": [
             [
              0,
              "#0d0887"
             ],
             [
              0.1111111111111111,
              "#46039f"
             ],
             [
              0.2222222222222222,
              "#7201a8"
             ],
             [
              0.3333333333333333,
              "#9c179e"
             ],
             [
              0.4444444444444444,
              "#bd3786"
             ],
             [
              0.5555555555555556,
              "#d8576b"
             ],
             [
              0.6666666666666666,
              "#ed7953"
             ],
             [
              0.7777777777777778,
              "#fb9f3a"
             ],
             [
              0.8888888888888888,
              "#fdca26"
             ],
             [
              1,
              "#f0f921"
             ]
            ],
            "type": "histogram2dcontour"
           }
          ],
          "mesh3d": [
           {
            "colorbar": {
             "outlinewidth": 0,
             "ticks": ""
            },
            "type": "mesh3d"
           }
          ],
          "parcoords": [
           {
            "line": {
             "colorbar": {
              "outlinewidth": 0,
              "ticks": ""
             }
            },
            "type": "parcoords"
           }
          ],
          "pie": [
           {
            "automargin": true,
            "type": "pie"
           }
          ],
          "scatter": [
           {
            "fillpattern": {
             "fillmode": "overlay",
             "size": 10,
             "solidity": 0.2
            },
            "type": "scatter"
           }
          ],
          "scatter3d": [
           {
            "line": {
             "colorbar": {
              "outlinewidth": 0,
              "ticks": ""
             }
            },
            "marker": {
             "colorbar": {
              "outlinewidth": 0,
              "ticks": ""
             }
            },
            "type": "scatter3d"
           }
          ],
          "scattercarpet": [
           {
            "marker": {
             "colorbar": {
              "outlinewidth": 0,
              "ticks": ""
             }
            },
            "type": "scattercarpet"
           }
          ],
          "scattergeo": [
           {
            "marker": {
             "colorbar": {
              "outlinewidth": 0,
              "ticks": ""
             }
            },
            "type": "scattergeo"
           }
          ],
          "scattergl": [
           {
            "marker": {
             "colorbar": {
              "outlinewidth": 0,
              "ticks": ""
             }
            },
            "type": "scattergl"
           }
          ],
          "scattermapbox": [
           {
            "marker": {
             "colorbar": {
              "outlinewidth": 0,
              "ticks": ""
             }
            },
            "type": "scattermapbox"
           }
          ],
          "scatterpolar": [
           {
            "marker": {
             "colorbar": {
              "outlinewidth": 0,
              "ticks": ""
             }
            },
            "type": "scatterpolar"
           }
          ],
          "scatterpolargl": [
           {
            "marker": {
             "colorbar": {
              "outlinewidth": 0,
              "ticks": ""
             }
            },
            "type": "scatterpolargl"
           }
          ],
          "scatterternary": [
           {
            "marker": {
             "colorbar": {
              "outlinewidth": 0,
              "ticks": ""
             }
            },
            "type": "scatterternary"
           }
          ],
          "surface": [
           {
            "colorbar": {
             "outlinewidth": 0,
             "ticks": ""
            },
            "colorscale": [
             [
              0,
              "#0d0887"
             ],
             [
              0.1111111111111111,
              "#46039f"
             ],
             [
              0.2222222222222222,
              "#7201a8"
             ],
             [
              0.3333333333333333,
              "#9c179e"
             ],
             [
              0.4444444444444444,
              "#bd3786"
             ],
             [
              0.5555555555555556,
              "#d8576b"
             ],
             [
              0.6666666666666666,
              "#ed7953"
             ],
             [
              0.7777777777777778,
              "#fb9f3a"
             ],
             [
              0.8888888888888888,
              "#fdca26"
             ],
             [
              1,
              "#f0f921"
             ]
            ],
            "type": "surface"
           }
          ],
          "table": [
           {
            "cells": {
             "fill": {
              "color": "#EBF0F8"
             },
             "line": {
              "color": "white"
             }
            },
            "header": {
             "fill": {
              "color": "#C8D4E3"
             },
             "line": {
              "color": "white"
             }
            },
            "type": "table"
           }
          ]
         },
         "layout": {
          "annotationdefaults": {
           "arrowcolor": "#2a3f5f",
           "arrowhead": 0,
           "arrowwidth": 1
          },
          "autotypenumbers": "strict",
          "coloraxis": {
           "colorbar": {
            "outlinewidth": 0,
            "ticks": ""
           }
          },
          "colorscale": {
           "diverging": [
            [
             0,
             "#8e0152"
            ],
            [
             0.1,
             "#c51b7d"
            ],
            [
             0.2,
             "#de77ae"
            ],
            [
             0.3,
             "#f1b6da"
            ],
            [
             0.4,
             "#fde0ef"
            ],
            [
             0.5,
             "#f7f7f7"
            ],
            [
             0.6,
             "#e6f5d0"
            ],
            [
             0.7,
             "#b8e186"
            ],
            [
             0.8,
             "#7fbc41"
            ],
            [
             0.9,
             "#4d9221"
            ],
            [
             1,
             "#276419"
            ]
           ],
           "sequential": [
            [
             0,
             "#0d0887"
            ],
            [
             0.1111111111111111,
             "#46039f"
            ],
            [
             0.2222222222222222,
             "#7201a8"
            ],
            [
             0.3333333333333333,
             "#9c179e"
            ],
            [
             0.4444444444444444,
             "#bd3786"
            ],
            [
             0.5555555555555556,
             "#d8576b"
            ],
            [
             0.6666666666666666,
             "#ed7953"
            ],
            [
             0.7777777777777778,
             "#fb9f3a"
            ],
            [
             0.8888888888888888,
             "#fdca26"
            ],
            [
             1,
             "#f0f921"
            ]
           ],
           "sequentialminus": [
            [
             0,
             "#0d0887"
            ],
            [
             0.1111111111111111,
             "#46039f"
            ],
            [
             0.2222222222222222,
             "#7201a8"
            ],
            [
             0.3333333333333333,
             "#9c179e"
            ],
            [
             0.4444444444444444,
             "#bd3786"
            ],
            [
             0.5555555555555556,
             "#d8576b"
            ],
            [
             0.6666666666666666,
             "#ed7953"
            ],
            [
             0.7777777777777778,
             "#fb9f3a"
            ],
            [
             0.8888888888888888,
             "#fdca26"
            ],
            [
             1,
             "#f0f921"
            ]
           ]
          },
          "colorway": [
           "#636efa",
           "#EF553B",
           "#00cc96",
           "#ab63fa",
           "#FFA15A",
           "#19d3f3",
           "#FF6692",
           "#B6E880",
           "#FF97FF",
           "#FECB52"
          ],
          "font": {
           "color": "#2a3f5f"
          },
          "geo": {
           "bgcolor": "white",
           "lakecolor": "white",
           "landcolor": "white",
           "showlakes": true,
           "showland": true,
           "subunitcolor": "#C8D4E3"
          },
          "hoverlabel": {
           "align": "left"
          },
          "hovermode": "closest",
          "mapbox": {
           "style": "light"
          },
          "paper_bgcolor": "white",
          "plot_bgcolor": "white",
          "polar": {
           "angularaxis": {
            "gridcolor": "#EBF0F8",
            "linecolor": "#EBF0F8",
            "ticks": ""
           },
           "bgcolor": "white",
           "radialaxis": {
            "gridcolor": "#EBF0F8",
            "linecolor": "#EBF0F8",
            "ticks": ""
           }
          },
          "scene": {
           "xaxis": {
            "backgroundcolor": "white",
            "gridcolor": "#DFE8F3",
            "gridwidth": 2,
            "linecolor": "#EBF0F8",
            "showbackground": true,
            "ticks": "",
            "zerolinecolor": "#EBF0F8"
           },
           "yaxis": {
            "backgroundcolor": "white",
            "gridcolor": "#DFE8F3",
            "gridwidth": 2,
            "linecolor": "#EBF0F8",
            "showbackground": true,
            "ticks": "",
            "zerolinecolor": "#EBF0F8"
           },
           "zaxis": {
            "backgroundcolor": "white",
            "gridcolor": "#DFE8F3",
            "gridwidth": 2,
            "linecolor": "#EBF0F8",
            "showbackground": true,
            "ticks": "",
            "zerolinecolor": "#EBF0F8"
           }
          },
          "shapedefaults": {
           "line": {
            "color": "#2a3f5f"
           }
          },
          "ternary": {
           "aaxis": {
            "gridcolor": "#DFE8F3",
            "linecolor": "#A2B1C6",
            "ticks": ""
           },
           "baxis": {
            "gridcolor": "#DFE8F3",
            "linecolor": "#A2B1C6",
            "ticks": ""
           },
           "bgcolor": "white",
           "caxis": {
            "gridcolor": "#DFE8F3",
            "linecolor": "#A2B1C6",
            "ticks": ""
           }
          },
          "title": {
           "x": 0.05
          },
          "xaxis": {
           "automargin": true,
           "gridcolor": "#EBF0F8",
           "linecolor": "#EBF0F8",
           "ticks": "",
           "title": {
            "standoff": 15
           },
           "zerolinecolor": "#EBF0F8",
           "zerolinewidth": 2
          },
          "yaxis": {
           "automargin": true,
           "gridcolor": "#EBF0F8",
           "linecolor": "#EBF0F8",
           "ticks": "",
           "title": {
            "standoff": 15
           },
           "zerolinecolor": "#EBF0F8",
           "zerolinewidth": 2
          }
         }
        },
        "xaxis": {
         "anchor": "y",
         "domain": [
          0,
          1
         ]
        },
        "yaxis": {
         "anchor": "x",
         "domain": [
          0,
          1
         ],
         "title": {
          "text": "Total Police Killings Since 2015"
         }
        }
       }
      }
     },
     "metadata": {},
     "output_type": "display_data"
    }
   ],
   "source": [
    "fig_scatter = px.scatter(atx, 'date', 'incident_number', hover_name='name', hover_data={'date': False, 'incident_number': False, 'was_mental_illness_related': False}, labels={\n",
    "                         'incident_number': 'Total Police Killings Since 2015', 'date': None}, custom_data=['name','was_mental_illness_related'])\n",
    "fig_scatter.update_layout(hovermode='x unified',\n",
    "                          legend=dict(title='Mental Health Incident?', xanchor='left', x=.05),\n",
    "                        )\n",
    "fig_scatter.update_traces(fill='tozeroy', hovertemplate='<b>%{customdata[0]}</b><br>Count of Killings: %{y}<br>During Mental Crisis: %{customdata[1]}')\n",
    "\n",
    "fig_scatter.show(config={'displaylogo': False})\n",
    "# fig_scatter.write_html('charts/Austinkillings.html',config={'displaylogo':False})"
   ]
  },
  {
   "cell_type": "code",
   "execution_count": 18,
   "metadata": {},
   "outputs": [],
   "source": [
    "states_dict = {\n",
    "    \"Alabama\": \"AL\",\n",
    "    \"Alaska\": \"AK\",\n",
    "    \"Arizona\": \"AZ\",\n",
    "    \"Arkansas\": \"AR\",\n",
    "    \"California\": \"CA\",\n",
    "    \"Colorado\": \"CO\",\n",
    "    \"Connecticut\": \"CT\",\n",
    "    \"Delaware\": \"DE\",\n",
    "    \"Florida\": \"FL\",\n",
    "    \"Georgia\": \"GA\",\n",
    "    \"Hawaii\": \"HI\",\n",
    "    \"Idaho\": \"ID\",\n",
    "    \"Illinois\": \"IL\",\n",
    "    \"Indiana\": \"IN\",\n",
    "    \"Iowa\": \"IA\",\n",
    "    \"Kansas\": \"KS\",\n",
    "    \"Kentucky\": \"KY\",\n",
    "    \"Louisiana\": \"LA\",\n",
    "    \"Maine\": \"ME\",\n",
    "    \"Maryland\": \"MD\",\n",
    "    \"Massachusetts\": \"MA\",\n",
    "    \"Michigan\": \"MI\",\n",
    "    \"Minnesota\": \"MN\",\n",
    "    \"Mississippi\": \"MS\",\n",
    "    \"Missouri\": \"MO\",\n",
    "    \"Montana\": \"MT\",\n",
    "    \"Nebraska\": \"NE\",\n",
    "    \"Nevada\": \"NV\",\n",
    "    \"New Hampshire\": \"NH\",\n",
    "    \"New Jersey\": \"NJ\",\n",
    "    \"New Mexico\": \"NM\",\n",
    "    \"New York\": \"NY\",\n",
    "    \"North Carolina\": \"NC\",\n",
    "    \"North Dakota\": \"ND\",\n",
    "    \"Ohio\": \"OH\",\n",
    "    \"Oklahoma\": \"OK\",\n",
    "    \"Oregon\": \"OR\",\n",
    "    \"Pennsylvania\": \"PA\",\n",
    "    \"Rhode Island\": \"RI\",\n",
    "    \"South Carolina\": \"SC\",\n",
    "    \"South Dakota\": \"SD\",\n",
    "    \"Tennessee\": \"TN\",\n",
    "    \"Texas\": \"TX\",\n",
    "    \"Utah\": \"UT\",\n",
    "    \"Vermont\": \"VT\",\n",
    "    \"Virginia\": \"VA\",\n",
    "    \"Washington\": \"WA\",\n",
    "    \"West Virginia\": \"WV\",\n",
    "    \"Wisconsin\": \"WI\",\n",
    "    \"Wyoming\": \"WY\",\n",
    "    \"District of Columbia\": \"DC\",\n",
    "    \"American Samoa\": \"AS\",\n",
    "    \"Guam\": \"GU\",\n",
    "    \"Northern Mariana Islands\": \"MP\",\n",
    "    \"Puerto Rico\": \"PR\",\n",
    "    \"United States Minor Outlying Islands\": \"UM\",\n",
    "    \"U.S. Virgin Islands\": \"VI\",\n",
    "}"
   ]
  },
  {
   "cell_type": "code",
   "execution_count": 26,
   "metadata": {},
   "outputs": [
    {
     "data": {
      "text/html": [
       "<div>\n",
       "<style scoped>\n",
       "    .dataframe tbody tr th:only-of-type {\n",
       "        vertical-align: middle;\n",
       "    }\n",
       "\n",
       "    .dataframe tbody tr th {\n",
       "        vertical-align: top;\n",
       "    }\n",
       "\n",
       "    .dataframe thead th {\n",
       "        text-align: right;\n",
       "    }\n",
       "</style>\n",
       "<table border=\"1\" class=\"dataframe\">\n",
       "  <thead>\n",
       "    <tr style=\"text-align: right;\">\n",
       "      <th></th>\n",
       "      <th>city</th>\n",
       "      <th>state</th>\n",
       "      <th>killings</th>\n",
       "      <th>mental_incident</th>\n",
       "      <th>pop</th>\n",
       "      <th>kpc</th>\n",
       "      <th>mhp</th>\n",
       "    </tr>\n",
       "  </thead>\n",
       "  <tbody>\n",
       "    <tr>\n",
       "      <th>0</th>\n",
       "      <td>Boston</td>\n",
       "      <td>MA</td>\n",
       "      <td>10</td>\n",
       "      <td>4</td>\n",
       "      <td>674272</td>\n",
       "      <td>0.000015</td>\n",
       "      <td>0.400000</td>\n",
       "    </tr>\n",
       "    <tr>\n",
       "      <th>1</th>\n",
       "      <td>Austin</td>\n",
       "      <td>TX</td>\n",
       "      <td>36</td>\n",
       "      <td>14</td>\n",
       "      <td>963121</td>\n",
       "      <td>0.000037</td>\n",
       "      <td>0.388889</td>\n",
       "    </tr>\n",
       "    <tr>\n",
       "      <th>2</th>\n",
       "      <td>San Diego</td>\n",
       "      <td>CA</td>\n",
       "      <td>28</td>\n",
       "      <td>10</td>\n",
       "      <td>1385394</td>\n",
       "      <td>0.000020</td>\n",
       "      <td>0.357143</td>\n",
       "    </tr>\n",
       "    <tr>\n",
       "      <th>3</th>\n",
       "      <td>Las Vegas</td>\n",
       "      <td>NV</td>\n",
       "      <td>67</td>\n",
       "      <td>23</td>\n",
       "      <td>643292</td>\n",
       "      <td>0.000104</td>\n",
       "      <td>0.343284</td>\n",
       "    </tr>\n",
       "    <tr>\n",
       "      <th>4</th>\n",
       "      <td>San Jose</td>\n",
       "      <td>CA</td>\n",
       "      <td>24</td>\n",
       "      <td>8</td>\n",
       "      <td>1010908</td>\n",
       "      <td>0.000024</td>\n",
       "      <td>0.333333</td>\n",
       "    </tr>\n",
       "    <tr>\n",
       "      <th>5</th>\n",
       "      <td>Charlotte</td>\n",
       "      <td>NC</td>\n",
       "      <td>22</td>\n",
       "      <td>7</td>\n",
       "      <td>876747</td>\n",
       "      <td>0.000025</td>\n",
       "      <td>0.318182</td>\n",
       "    </tr>\n",
       "    <tr>\n",
       "      <th>6</th>\n",
       "      <td>Portland</td>\n",
       "      <td>OR</td>\n",
       "      <td>25</td>\n",
       "      <td>7</td>\n",
       "      <td>652388</td>\n",
       "      <td>0.000038</td>\n",
       "      <td>0.280000</td>\n",
       "    </tr>\n",
       "    <tr>\n",
       "      <th>7</th>\n",
       "      <td>Nashville</td>\n",
       "      <td>TN</td>\n",
       "      <td>15</td>\n",
       "      <td>4</td>\n",
       "      <td>689248</td>\n",
       "      <td>0.000022</td>\n",
       "      <td>0.266667</td>\n",
       "    </tr>\n",
       "    <tr>\n",
       "      <th>8</th>\n",
       "      <td>San Francisco</td>\n",
       "      <td>CA</td>\n",
       "      <td>20</td>\n",
       "      <td>5</td>\n",
       "      <td>870014</td>\n",
       "      <td>0.000023</td>\n",
       "      <td>0.250000</td>\n",
       "    </tr>\n",
       "    <tr>\n",
       "      <th>9</th>\n",
       "      <td>New York</td>\n",
       "      <td>NY</td>\n",
       "      <td>43</td>\n",
       "      <td>10</td>\n",
       "      <td>8772978</td>\n",
       "      <td>0.000005</td>\n",
       "      <td>0.232558</td>\n",
       "    </tr>\n",
       "    <tr>\n",
       "      <th>10</th>\n",
       "      <td>Jacksonville</td>\n",
       "      <td>FL</td>\n",
       "      <td>40</td>\n",
       "      <td>9</td>\n",
       "      <td>950463</td>\n",
       "      <td>0.000042</td>\n",
       "      <td>0.225000</td>\n",
       "    </tr>\n",
       "    <tr>\n",
       "      <th>11</th>\n",
       "      <td>Oklahoma City</td>\n",
       "      <td>OK</td>\n",
       "      <td>41</td>\n",
       "      <td>9</td>\n",
       "      <td>682760</td>\n",
       "      <td>0.000060</td>\n",
       "      <td>0.219512</td>\n",
       "    </tr>\n",
       "    <tr>\n",
       "      <th>12</th>\n",
       "      <td>El Paso</td>\n",
       "      <td>TX</td>\n",
       "      <td>20</td>\n",
       "      <td>4</td>\n",
       "      <td>678598</td>\n",
       "      <td>0.000029</td>\n",
       "      <td>0.200000</td>\n",
       "    </tr>\n",
       "    <tr>\n",
       "      <th>13</th>\n",
       "      <td>Houston</td>\n",
       "      <td>TX</td>\n",
       "      <td>90</td>\n",
       "      <td>16</td>\n",
       "      <td>2300027</td>\n",
       "      <td>0.000039</td>\n",
       "      <td>0.177778</td>\n",
       "    </tr>\n",
       "    <tr>\n",
       "      <th>14</th>\n",
       "      <td>Indianapolis</td>\n",
       "      <td>IN</td>\n",
       "      <td>24</td>\n",
       "      <td>4</td>\n",
       "      <td>887382</td>\n",
       "      <td>0.000027</td>\n",
       "      <td>0.166667</td>\n",
       "    </tr>\n",
       "    <tr>\n",
       "      <th>15</th>\n",
       "      <td>Seattle</td>\n",
       "      <td>WA</td>\n",
       "      <td>18</td>\n",
       "      <td>3</td>\n",
       "      <td>738172</td>\n",
       "      <td>0.000024</td>\n",
       "      <td>0.166667</td>\n",
       "    </tr>\n",
       "    <tr>\n",
       "      <th>16</th>\n",
       "      <td>Fort Worth</td>\n",
       "      <td>TX</td>\n",
       "      <td>24</td>\n",
       "      <td>4</td>\n",
       "      <td>922592</td>\n",
       "      <td>0.000026</td>\n",
       "      <td>0.166667</td>\n",
       "    </tr>\n",
       "    <tr>\n",
       "      <th>17</th>\n",
       "      <td>Phoenix</td>\n",
       "      <td>AZ</td>\n",
       "      <td>104</td>\n",
       "      <td>15</td>\n",
       "      <td>1611345</td>\n",
       "      <td>0.000065</td>\n",
       "      <td>0.144231</td>\n",
       "    </tr>\n",
       "    <tr>\n",
       "      <th>18</th>\n",
       "      <td>San Antonio</td>\n",
       "      <td>TX</td>\n",
       "      <td>68</td>\n",
       "      <td>8</td>\n",
       "      <td>1438227</td>\n",
       "      <td>0.000047</td>\n",
       "      <td>0.117647</td>\n",
       "    </tr>\n",
       "    <tr>\n",
       "      <th>19</th>\n",
       "      <td>Los Angeles</td>\n",
       "      <td>CA</td>\n",
       "      <td>130</td>\n",
       "      <td>15</td>\n",
       "      <td>3889834</td>\n",
       "      <td>0.000033</td>\n",
       "      <td>0.115385</td>\n",
       "    </tr>\n",
       "    <tr>\n",
       "      <th>20</th>\n",
       "      <td>Dallas</td>\n",
       "      <td>TX</td>\n",
       "      <td>20</td>\n",
       "      <td>2</td>\n",
       "      <td>1303234</td>\n",
       "      <td>0.000015</td>\n",
       "      <td>0.100000</td>\n",
       "    </tr>\n",
       "    <tr>\n",
       "      <th>21</th>\n",
       "      <td>Philadelphia</td>\n",
       "      <td>PA</td>\n",
       "      <td>30</td>\n",
       "      <td>3</td>\n",
       "      <td>1601005</td>\n",
       "      <td>0.000019</td>\n",
       "      <td>0.100000</td>\n",
       "    </tr>\n",
       "    <tr>\n",
       "      <th>22</th>\n",
       "      <td>Chicago</td>\n",
       "      <td>IL</td>\n",
       "      <td>50</td>\n",
       "      <td>4</td>\n",
       "      <td>2741730</td>\n",
       "      <td>0.000018</td>\n",
       "      <td>0.080000</td>\n",
       "    </tr>\n",
       "    <tr>\n",
       "      <th>23</th>\n",
       "      <td>Denver</td>\n",
       "      <td>CO</td>\n",
       "      <td>47</td>\n",
       "      <td>3</td>\n",
       "      <td>717630</td>\n",
       "      <td>0.000065</td>\n",
       "      <td>0.063830</td>\n",
       "    </tr>\n",
       "    <tr>\n",
       "      <th>24</th>\n",
       "      <td>Columbus</td>\n",
       "      <td>OH</td>\n",
       "      <td>40</td>\n",
       "      <td>2</td>\n",
       "      <td>905860</td>\n",
       "      <td>0.000044</td>\n",
       "      <td>0.050000</td>\n",
       "    </tr>\n",
       "  </tbody>\n",
       "</table>\n",
       "</div>"
      ],
      "text/plain": [
       "             city state  killings  mental_incident      pop       kpc  \\\n",
       "0          Boston    MA        10                4   674272  0.000015   \n",
       "1          Austin    TX        36               14   963121  0.000037   \n",
       "2       San Diego    CA        28               10  1385394  0.000020   \n",
       "3       Las Vegas    NV        67               23   643292  0.000104   \n",
       "4        San Jose    CA        24                8  1010908  0.000024   \n",
       "5       Charlotte    NC        22                7   876747  0.000025   \n",
       "6        Portland    OR        25                7   652388  0.000038   \n",
       "7       Nashville    TN        15                4   689248  0.000022   \n",
       "8   San Francisco    CA        20                5   870014  0.000023   \n",
       "9        New York    NY        43               10  8772978  0.000005   \n",
       "10   Jacksonville    FL        40                9   950463  0.000042   \n",
       "11  Oklahoma City    OK        41                9   682760  0.000060   \n",
       "12        El Paso    TX        20                4   678598  0.000029   \n",
       "13        Houston    TX        90               16  2300027  0.000039   \n",
       "14   Indianapolis    IN        24                4   887382  0.000027   \n",
       "15        Seattle    WA        18                3   738172  0.000024   \n",
       "16     Fort Worth    TX        24                4   922592  0.000026   \n",
       "17        Phoenix    AZ       104               15  1611345  0.000065   \n",
       "18    San Antonio    TX        68                8  1438227  0.000047   \n",
       "19    Los Angeles    CA       130               15  3889834  0.000033   \n",
       "20         Dallas    TX        20                2  1303234  0.000015   \n",
       "21   Philadelphia    PA        30                3  1601005  0.000019   \n",
       "22        Chicago    IL        50                4  2741730  0.000018   \n",
       "23         Denver    CO        47                3   717630  0.000065   \n",
       "24       Columbus    OH        40                2   905860  0.000044   \n",
       "\n",
       "         mhp  \n",
       "0   0.400000  \n",
       "1   0.388889  \n",
       "2   0.357143  \n",
       "3   0.343284  \n",
       "4   0.333333  \n",
       "5   0.318182  \n",
       "6   0.280000  \n",
       "7   0.266667  \n",
       "8   0.250000  \n",
       "9   0.232558  \n",
       "10  0.225000  \n",
       "11  0.219512  \n",
       "12  0.200000  \n",
       "13  0.177778  \n",
       "14  0.166667  \n",
       "15  0.166667  \n",
       "16  0.166667  \n",
       "17  0.144231  \n",
       "18  0.117647  \n",
       "19  0.115385  \n",
       "20  0.100000  \n",
       "21  0.100000  \n",
       "22  0.080000  \n",
       "23  0.063830  \n",
       "24  0.050000  "
      ]
     },
     "execution_count": 26,
     "metadata": {},
     "output_type": "execute_result"
    }
   ],
   "source": [
    "# pivot for inter-city comparison\n",
    "killings_all = pd.pivot_table(df, index=['city','state'], aggfunc='count').sort_values('agency_ids', ascending=False).reset_index()[['city','state','agency_ids']]\n",
    "mental_all = pd.pivot_table(df.loc[(df.was_mental_illness_related==True)], index=['city','state'], aggfunc='count').sort_values('was_mental_illness_related', ascending=False).reset_index()[['city','state','was_mental_illness_related']]\n",
    "\n",
    "# merge\n",
    "killings_all = killings_all.merge(mental_all, on=['city','state'],how='outer').fillna(0)\n",
    "killings_all.columns = ['city','state','killings','mental_incident']\n",
    "killings_all.mental_incident = killings_all.mental_incident.astype(int)\n",
    "\n",
    "# import and clean census data, population estimates from 2020\n",
    "pop = pd.read_excel('populations.xlsx')\n",
    "pop.columns = ['city', 'state', 'pop']\n",
    "pop.city = pop.city.str[:-5]\n",
    "pop.state = pop.state.str[1:]\n",
    "pop = pop.replace({'state': states_dict})\n",
    "\n",
    "# merge\n",
    "killings_all = killings_all.merge(pop, on=['city','state'], how='left')\n",
    "killings_all = killings_all.sort_values('pop', ascending=False).head(100)\n",
    "killings_all['pop'] = killings_all['pop'].astype(int)\n",
    "\n",
    "# generate per capita adjustments\n",
    "killings_all['kpc'] = killings_all.killings / killings_all['pop']\n",
    "killings_all['mhp'] = killings_all.mental_incident / killings_all.killings\n",
    "\n",
    "# display 2015-present Mental Health Incident Killings per capita, 25 largest US cities\n",
    "killings_all.head(25).sort_values('mhp', ascending = False).reset_index(drop=True)\n"
   ]
  },
  {
   "cell_type": "code",
   "execution_count": 27,
   "metadata": {},
   "outputs": [
    {
     "data": {
      "text/html": [
       "<div>\n",
       "<style scoped>\n",
       "    .dataframe tbody tr th:only-of-type {\n",
       "        vertical-align: middle;\n",
       "    }\n",
       "\n",
       "    .dataframe tbody tr th {\n",
       "        vertical-align: top;\n",
       "    }\n",
       "\n",
       "    .dataframe thead th {\n",
       "        text-align: right;\n",
       "    }\n",
       "</style>\n",
       "<table border=\"1\" class=\"dataframe\">\n",
       "  <thead>\n",
       "    <tr style=\"text-align: right;\">\n",
       "      <th></th>\n",
       "      <th>city</th>\n",
       "      <th>state</th>\n",
       "      <th>killings</th>\n",
       "      <th>mental_incident</th>\n",
       "      <th>pop</th>\n",
       "      <th>kpc</th>\n",
       "      <th>mhp</th>\n",
       "    </tr>\n",
       "  </thead>\n",
       "  <tbody>\n",
       "    <tr>\n",
       "      <th>0</th>\n",
       "      <td>Las Vegas</td>\n",
       "      <td>NV</td>\n",
       "      <td>67</td>\n",
       "      <td>23</td>\n",
       "      <td>643292</td>\n",
       "      <td>0.000104</td>\n",
       "      <td>0.343284</td>\n",
       "    </tr>\n",
       "    <tr>\n",
       "      <th>1</th>\n",
       "      <td>Denver</td>\n",
       "      <td>CO</td>\n",
       "      <td>47</td>\n",
       "      <td>3</td>\n",
       "      <td>717630</td>\n",
       "      <td>0.000065</td>\n",
       "      <td>0.063830</td>\n",
       "    </tr>\n",
       "    <tr>\n",
       "      <th>2</th>\n",
       "      <td>Phoenix</td>\n",
       "      <td>AZ</td>\n",
       "      <td>104</td>\n",
       "      <td>15</td>\n",
       "      <td>1611345</td>\n",
       "      <td>0.000065</td>\n",
       "      <td>0.144231</td>\n",
       "    </tr>\n",
       "    <tr>\n",
       "      <th>3</th>\n",
       "      <td>Oklahoma City</td>\n",
       "      <td>OK</td>\n",
       "      <td>41</td>\n",
       "      <td>9</td>\n",
       "      <td>682760</td>\n",
       "      <td>0.000060</td>\n",
       "      <td>0.219512</td>\n",
       "    </tr>\n",
       "    <tr>\n",
       "      <th>4</th>\n",
       "      <td>San Antonio</td>\n",
       "      <td>TX</td>\n",
       "      <td>68</td>\n",
       "      <td>8</td>\n",
       "      <td>1438227</td>\n",
       "      <td>0.000047</td>\n",
       "      <td>0.117647</td>\n",
       "    </tr>\n",
       "    <tr>\n",
       "      <th>5</th>\n",
       "      <td>Columbus</td>\n",
       "      <td>OH</td>\n",
       "      <td>40</td>\n",
       "      <td>2</td>\n",
       "      <td>905860</td>\n",
       "      <td>0.000044</td>\n",
       "      <td>0.050000</td>\n",
       "    </tr>\n",
       "    <tr>\n",
       "      <th>6</th>\n",
       "      <td>Jacksonville</td>\n",
       "      <td>FL</td>\n",
       "      <td>40</td>\n",
       "      <td>9</td>\n",
       "      <td>950463</td>\n",
       "      <td>0.000042</td>\n",
       "      <td>0.225000</td>\n",
       "    </tr>\n",
       "    <tr>\n",
       "      <th>7</th>\n",
       "      <td>Houston</td>\n",
       "      <td>TX</td>\n",
       "      <td>90</td>\n",
       "      <td>16</td>\n",
       "      <td>2300027</td>\n",
       "      <td>0.000039</td>\n",
       "      <td>0.177778</td>\n",
       "    </tr>\n",
       "    <tr>\n",
       "      <th>8</th>\n",
       "      <td>Portland</td>\n",
       "      <td>OR</td>\n",
       "      <td>25</td>\n",
       "      <td>7</td>\n",
       "      <td>652388</td>\n",
       "      <td>0.000038</td>\n",
       "      <td>0.280000</td>\n",
       "    </tr>\n",
       "    <tr>\n",
       "      <th>9</th>\n",
       "      <td>Austin</td>\n",
       "      <td>TX</td>\n",
       "      <td>36</td>\n",
       "      <td>14</td>\n",
       "      <td>963121</td>\n",
       "      <td>0.000037</td>\n",
       "      <td>0.388889</td>\n",
       "    </tr>\n",
       "    <tr>\n",
       "      <th>10</th>\n",
       "      <td>Los Angeles</td>\n",
       "      <td>CA</td>\n",
       "      <td>130</td>\n",
       "      <td>15</td>\n",
       "      <td>3889834</td>\n",
       "      <td>0.000033</td>\n",
       "      <td>0.115385</td>\n",
       "    </tr>\n",
       "    <tr>\n",
       "      <th>11</th>\n",
       "      <td>El Paso</td>\n",
       "      <td>TX</td>\n",
       "      <td>20</td>\n",
       "      <td>4</td>\n",
       "      <td>678598</td>\n",
       "      <td>0.000029</td>\n",
       "      <td>0.200000</td>\n",
       "    </tr>\n",
       "    <tr>\n",
       "      <th>12</th>\n",
       "      <td>Indianapolis</td>\n",
       "      <td>IN</td>\n",
       "      <td>24</td>\n",
       "      <td>4</td>\n",
       "      <td>887382</td>\n",
       "      <td>0.000027</td>\n",
       "      <td>0.166667</td>\n",
       "    </tr>\n",
       "    <tr>\n",
       "      <th>13</th>\n",
       "      <td>Fort Worth</td>\n",
       "      <td>TX</td>\n",
       "      <td>24</td>\n",
       "      <td>4</td>\n",
       "      <td>922592</td>\n",
       "      <td>0.000026</td>\n",
       "      <td>0.166667</td>\n",
       "    </tr>\n",
       "    <tr>\n",
       "      <th>14</th>\n",
       "      <td>Charlotte</td>\n",
       "      <td>NC</td>\n",
       "      <td>22</td>\n",
       "      <td>7</td>\n",
       "      <td>876747</td>\n",
       "      <td>0.000025</td>\n",
       "      <td>0.318182</td>\n",
       "    </tr>\n",
       "    <tr>\n",
       "      <th>15</th>\n",
       "      <td>Seattle</td>\n",
       "      <td>WA</td>\n",
       "      <td>18</td>\n",
       "      <td>3</td>\n",
       "      <td>738172</td>\n",
       "      <td>0.000024</td>\n",
       "      <td>0.166667</td>\n",
       "    </tr>\n",
       "    <tr>\n",
       "      <th>16</th>\n",
       "      <td>San Jose</td>\n",
       "      <td>CA</td>\n",
       "      <td>24</td>\n",
       "      <td>8</td>\n",
       "      <td>1010908</td>\n",
       "      <td>0.000024</td>\n",
       "      <td>0.333333</td>\n",
       "    </tr>\n",
       "    <tr>\n",
       "      <th>17</th>\n",
       "      <td>San Francisco</td>\n",
       "      <td>CA</td>\n",
       "      <td>20</td>\n",
       "      <td>5</td>\n",
       "      <td>870014</td>\n",
       "      <td>0.000023</td>\n",
       "      <td>0.250000</td>\n",
       "    </tr>\n",
       "    <tr>\n",
       "      <th>18</th>\n",
       "      <td>Nashville</td>\n",
       "      <td>TN</td>\n",
       "      <td>15</td>\n",
       "      <td>4</td>\n",
       "      <td>689248</td>\n",
       "      <td>0.000022</td>\n",
       "      <td>0.266667</td>\n",
       "    </tr>\n",
       "    <tr>\n",
       "      <th>19</th>\n",
       "      <td>San Diego</td>\n",
       "      <td>CA</td>\n",
       "      <td>28</td>\n",
       "      <td>10</td>\n",
       "      <td>1385394</td>\n",
       "      <td>0.000020</td>\n",
       "      <td>0.357143</td>\n",
       "    </tr>\n",
       "    <tr>\n",
       "      <th>20</th>\n",
       "      <td>Philadelphia</td>\n",
       "      <td>PA</td>\n",
       "      <td>30</td>\n",
       "      <td>3</td>\n",
       "      <td>1601005</td>\n",
       "      <td>0.000019</td>\n",
       "      <td>0.100000</td>\n",
       "    </tr>\n",
       "    <tr>\n",
       "      <th>21</th>\n",
       "      <td>Chicago</td>\n",
       "      <td>IL</td>\n",
       "      <td>50</td>\n",
       "      <td>4</td>\n",
       "      <td>2741730</td>\n",
       "      <td>0.000018</td>\n",
       "      <td>0.080000</td>\n",
       "    </tr>\n",
       "    <tr>\n",
       "      <th>22</th>\n",
       "      <td>Dallas</td>\n",
       "      <td>TX</td>\n",
       "      <td>20</td>\n",
       "      <td>2</td>\n",
       "      <td>1303234</td>\n",
       "      <td>0.000015</td>\n",
       "      <td>0.100000</td>\n",
       "    </tr>\n",
       "    <tr>\n",
       "      <th>23</th>\n",
       "      <td>Boston</td>\n",
       "      <td>MA</td>\n",
       "      <td>10</td>\n",
       "      <td>4</td>\n",
       "      <td>674272</td>\n",
       "      <td>0.000015</td>\n",
       "      <td>0.400000</td>\n",
       "    </tr>\n",
       "    <tr>\n",
       "      <th>24</th>\n",
       "      <td>New York</td>\n",
       "      <td>NY</td>\n",
       "      <td>43</td>\n",
       "      <td>10</td>\n",
       "      <td>8772978</td>\n",
       "      <td>0.000005</td>\n",
       "      <td>0.232558</td>\n",
       "    </tr>\n",
       "  </tbody>\n",
       "</table>\n",
       "</div>"
      ],
      "text/plain": [
       "             city state  killings  mental_incident      pop       kpc  \\\n",
       "0       Las Vegas    NV        67               23   643292  0.000104   \n",
       "1          Denver    CO        47                3   717630  0.000065   \n",
       "2         Phoenix    AZ       104               15  1611345  0.000065   \n",
       "3   Oklahoma City    OK        41                9   682760  0.000060   \n",
       "4     San Antonio    TX        68                8  1438227  0.000047   \n",
       "5        Columbus    OH        40                2   905860  0.000044   \n",
       "6    Jacksonville    FL        40                9   950463  0.000042   \n",
       "7         Houston    TX        90               16  2300027  0.000039   \n",
       "8        Portland    OR        25                7   652388  0.000038   \n",
       "9          Austin    TX        36               14   963121  0.000037   \n",
       "10    Los Angeles    CA       130               15  3889834  0.000033   \n",
       "11        El Paso    TX        20                4   678598  0.000029   \n",
       "12   Indianapolis    IN        24                4   887382  0.000027   \n",
       "13     Fort Worth    TX        24                4   922592  0.000026   \n",
       "14      Charlotte    NC        22                7   876747  0.000025   \n",
       "15        Seattle    WA        18                3   738172  0.000024   \n",
       "16       San Jose    CA        24                8  1010908  0.000024   \n",
       "17  San Francisco    CA        20                5   870014  0.000023   \n",
       "18      Nashville    TN        15                4   689248  0.000022   \n",
       "19      San Diego    CA        28               10  1385394  0.000020   \n",
       "20   Philadelphia    PA        30                3  1601005  0.000019   \n",
       "21        Chicago    IL        50                4  2741730  0.000018   \n",
       "22         Dallas    TX        20                2  1303234  0.000015   \n",
       "23         Boston    MA        10                4   674272  0.000015   \n",
       "24       New York    NY        43               10  8772978  0.000005   \n",
       "\n",
       "         mhp  \n",
       "0   0.343284  \n",
       "1   0.063830  \n",
       "2   0.144231  \n",
       "3   0.219512  \n",
       "4   0.117647  \n",
       "5   0.050000  \n",
       "6   0.225000  \n",
       "7   0.177778  \n",
       "8   0.280000  \n",
       "9   0.388889  \n",
       "10  0.115385  \n",
       "11  0.200000  \n",
       "12  0.166667  \n",
       "13  0.166667  \n",
       "14  0.318182  \n",
       "15  0.166667  \n",
       "16  0.333333  \n",
       "17  0.250000  \n",
       "18  0.266667  \n",
       "19  0.357143  \n",
       "20  0.100000  \n",
       "21  0.080000  \n",
       "22  0.100000  \n",
       "23  0.400000  \n",
       "24  0.232558  "
      ]
     },
     "execution_count": 27,
     "metadata": {},
     "output_type": "execute_result"
    }
   ],
   "source": [
    "# display 2015-present total killings per capita, 25 largest US cities\n",
    "\n",
    "killings_all.head(25).sort_values('kpc', ascending = False).reset_index(drop=True)"
   ]
  },
  {
   "cell_type": "code",
   "execution_count": 25,
   "metadata": {},
   "outputs": [
    {
     "data": {
      "text/html": [
       "<div>\n",
       "<style scoped>\n",
       "    .dataframe tbody tr th:only-of-type {\n",
       "        vertical-align: middle;\n",
       "    }\n",
       "\n",
       "    .dataframe tbody tr th {\n",
       "        vertical-align: top;\n",
       "    }\n",
       "\n",
       "    .dataframe thead th {\n",
       "        text-align: right;\n",
       "    }\n",
       "</style>\n",
       "<table border=\"1\" class=\"dataframe\">\n",
       "  <thead>\n",
       "    <tr style=\"text-align: right;\">\n",
       "      <th></th>\n",
       "      <th>city</th>\n",
       "      <th>state</th>\n",
       "      <th>killings</th>\n",
       "      <th>mental_incident</th>\n",
       "      <th>pop</th>\n",
       "      <th>kpc</th>\n",
       "      <th>mhp</th>\n",
       "    </tr>\n",
       "  </thead>\n",
       "  <tbody>\n",
       "    <tr>\n",
       "      <th>0</th>\n",
       "      <td>Las Vegas</td>\n",
       "      <td>NV</td>\n",
       "      <td>42</td>\n",
       "      <td>12</td>\n",
       "      <td>643292</td>\n",
       "      <td>0.000065</td>\n",
       "      <td>0.285714</td>\n",
       "    </tr>\n",
       "    <tr>\n",
       "      <th>1</th>\n",
       "      <td>Denver</td>\n",
       "      <td>CO</td>\n",
       "      <td>33</td>\n",
       "      <td>2</td>\n",
       "      <td>717630</td>\n",
       "      <td>0.000046</td>\n",
       "      <td>0.060606</td>\n",
       "    </tr>\n",
       "    <tr>\n",
       "      <th>2</th>\n",
       "      <td>Phoenix</td>\n",
       "      <td>AZ</td>\n",
       "      <td>70</td>\n",
       "      <td>6</td>\n",
       "      <td>1611345</td>\n",
       "      <td>0.000043</td>\n",
       "      <td>0.085714</td>\n",
       "    </tr>\n",
       "    <tr>\n",
       "      <th>3</th>\n",
       "      <td>Oklahoma City</td>\n",
       "      <td>OK</td>\n",
       "      <td>25</td>\n",
       "      <td>5</td>\n",
       "      <td>682760</td>\n",
       "      <td>0.000037</td>\n",
       "      <td>0.200000</td>\n",
       "    </tr>\n",
       "    <tr>\n",
       "      <th>4</th>\n",
       "      <td>San Antonio</td>\n",
       "      <td>TX</td>\n",
       "      <td>49</td>\n",
       "      <td>5</td>\n",
       "      <td>1438227</td>\n",
       "      <td>0.000034</td>\n",
       "      <td>0.102041</td>\n",
       "    </tr>\n",
       "    <tr>\n",
       "      <th>5</th>\n",
       "      <td>Portland</td>\n",
       "      <td>OR</td>\n",
       "      <td>19</td>\n",
       "      <td>4</td>\n",
       "      <td>652388</td>\n",
       "      <td>0.000029</td>\n",
       "      <td>0.210526</td>\n",
       "    </tr>\n",
       "    <tr>\n",
       "      <th>6</th>\n",
       "      <td>Jacksonville</td>\n",
       "      <td>FL</td>\n",
       "      <td>26</td>\n",
       "      <td>7</td>\n",
       "      <td>950463</td>\n",
       "      <td>0.000027</td>\n",
       "      <td>0.269231</td>\n",
       "    </tr>\n",
       "    <tr>\n",
       "      <th>7</th>\n",
       "      <td>Houston</td>\n",
       "      <td>TX</td>\n",
       "      <td>60</td>\n",
       "      <td>11</td>\n",
       "      <td>2300027</td>\n",
       "      <td>0.000026</td>\n",
       "      <td>0.183333</td>\n",
       "    </tr>\n",
       "    <tr>\n",
       "      <th>8</th>\n",
       "      <td>Columbus</td>\n",
       "      <td>OH</td>\n",
       "      <td>23</td>\n",
       "      <td>0</td>\n",
       "      <td>905860</td>\n",
       "      <td>0.000025</td>\n",
       "      <td>0.000000</td>\n",
       "    </tr>\n",
       "    <tr>\n",
       "      <th>9</th>\n",
       "      <td>Los Angeles</td>\n",
       "      <td>CA</td>\n",
       "      <td>86</td>\n",
       "      <td>9</td>\n",
       "      <td>3889834</td>\n",
       "      <td>0.000022</td>\n",
       "      <td>0.104651</td>\n",
       "    </tr>\n",
       "    <tr>\n",
       "      <th>10</th>\n",
       "      <td>Austin</td>\n",
       "      <td>TX</td>\n",
       "      <td>20</td>\n",
       "      <td>7</td>\n",
       "      <td>963121</td>\n",
       "      <td>0.000021</td>\n",
       "      <td>0.350000</td>\n",
       "    </tr>\n",
       "    <tr>\n",
       "      <th>11</th>\n",
       "      <td>El Paso</td>\n",
       "      <td>TX</td>\n",
       "      <td>12</td>\n",
       "      <td>2</td>\n",
       "      <td>678598</td>\n",
       "      <td>0.000018</td>\n",
       "      <td>0.166667</td>\n",
       "    </tr>\n",
       "    <tr>\n",
       "      <th>12</th>\n",
       "      <td>Fort Worth</td>\n",
       "      <td>TX</td>\n",
       "      <td>16</td>\n",
       "      <td>3</td>\n",
       "      <td>922592</td>\n",
       "      <td>0.000017</td>\n",
       "      <td>0.187500</td>\n",
       "    </tr>\n",
       "    <tr>\n",
       "      <th>13</th>\n",
       "      <td>Seattle</td>\n",
       "      <td>WA</td>\n",
       "      <td>12</td>\n",
       "      <td>2</td>\n",
       "      <td>738172</td>\n",
       "      <td>0.000016</td>\n",
       "      <td>0.166667</td>\n",
       "    </tr>\n",
       "    <tr>\n",
       "      <th>14</th>\n",
       "      <td>Nashville</td>\n",
       "      <td>TN</td>\n",
       "      <td>10</td>\n",
       "      <td>3</td>\n",
       "      <td>689248</td>\n",
       "      <td>0.000015</td>\n",
       "      <td>0.300000</td>\n",
       "    </tr>\n",
       "    <tr>\n",
       "      <th>15</th>\n",
       "      <td>San Diego</td>\n",
       "      <td>CA</td>\n",
       "      <td>18</td>\n",
       "      <td>7</td>\n",
       "      <td>1385394</td>\n",
       "      <td>0.000013</td>\n",
       "      <td>0.388889</td>\n",
       "    </tr>\n",
       "    <tr>\n",
       "      <th>16</th>\n",
       "      <td>Charlotte</td>\n",
       "      <td>NC</td>\n",
       "      <td>11</td>\n",
       "      <td>4</td>\n",
       "      <td>876747</td>\n",
       "      <td>0.000013</td>\n",
       "      <td>0.363636</td>\n",
       "    </tr>\n",
       "    <tr>\n",
       "      <th>17</th>\n",
       "      <td>Philadelphia</td>\n",
       "      <td>PA</td>\n",
       "      <td>20</td>\n",
       "      <td>2</td>\n",
       "      <td>1601005</td>\n",
       "      <td>0.000012</td>\n",
       "      <td>0.100000</td>\n",
       "    </tr>\n",
       "    <tr>\n",
       "      <th>18</th>\n",
       "      <td>San Jose</td>\n",
       "      <td>CA</td>\n",
       "      <td>12</td>\n",
       "      <td>2</td>\n",
       "      <td>1010908</td>\n",
       "      <td>0.000012</td>\n",
       "      <td>0.166667</td>\n",
       "    </tr>\n",
       "    <tr>\n",
       "      <th>19</th>\n",
       "      <td>Indianapolis</td>\n",
       "      <td>IN</td>\n",
       "      <td>10</td>\n",
       "      <td>2</td>\n",
       "      <td>887382</td>\n",
       "      <td>0.000011</td>\n",
       "      <td>0.200000</td>\n",
       "    </tr>\n",
       "    <tr>\n",
       "      <th>20</th>\n",
       "      <td>Dallas</td>\n",
       "      <td>TX</td>\n",
       "      <td>12</td>\n",
       "      <td>1</td>\n",
       "      <td>1303234</td>\n",
       "      <td>0.000009</td>\n",
       "      <td>0.083333</td>\n",
       "    </tr>\n",
       "    <tr>\n",
       "      <th>21</th>\n",
       "      <td>Chicago</td>\n",
       "      <td>IL</td>\n",
       "      <td>23</td>\n",
       "      <td>2</td>\n",
       "      <td>2741730</td>\n",
       "      <td>0.000008</td>\n",
       "      <td>0.086957</td>\n",
       "    </tr>\n",
       "    <tr>\n",
       "      <th>22</th>\n",
       "      <td>San Francisco</td>\n",
       "      <td>CA</td>\n",
       "      <td>7</td>\n",
       "      <td>2</td>\n",
       "      <td>870014</td>\n",
       "      <td>0.000008</td>\n",
       "      <td>0.285714</td>\n",
       "    </tr>\n",
       "    <tr>\n",
       "      <th>23</th>\n",
       "      <td>Boston</td>\n",
       "      <td>MA</td>\n",
       "      <td>5</td>\n",
       "      <td>1</td>\n",
       "      <td>674272</td>\n",
       "      <td>0.000007</td>\n",
       "      <td>0.200000</td>\n",
       "    </tr>\n",
       "    <tr>\n",
       "      <th>24</th>\n",
       "      <td>New York</td>\n",
       "      <td>NY</td>\n",
       "      <td>32</td>\n",
       "      <td>6</td>\n",
       "      <td>8772978</td>\n",
       "      <td>0.000004</td>\n",
       "      <td>0.187500</td>\n",
       "    </tr>\n",
       "  </tbody>\n",
       "</table>\n",
       "</div>"
      ],
      "text/plain": [
       "             city state  killings  mental_incident      pop       kpc  \\\n",
       "0       Las Vegas    NV        42               12   643292  0.000065   \n",
       "1          Denver    CO        33                2   717630  0.000046   \n",
       "2         Phoenix    AZ        70                6  1611345  0.000043   \n",
       "3   Oklahoma City    OK        25                5   682760  0.000037   \n",
       "4     San Antonio    TX        49                5  1438227  0.000034   \n",
       "5        Portland    OR        19                4   652388  0.000029   \n",
       "6    Jacksonville    FL        26                7   950463  0.000027   \n",
       "7         Houston    TX        60               11  2300027  0.000026   \n",
       "8        Columbus    OH        23                0   905860  0.000025   \n",
       "9     Los Angeles    CA        86                9  3889834  0.000022   \n",
       "10         Austin    TX        20                7   963121  0.000021   \n",
       "11        El Paso    TX        12                2   678598  0.000018   \n",
       "12     Fort Worth    TX        16                3   922592  0.000017   \n",
       "13        Seattle    WA        12                2   738172  0.000016   \n",
       "14      Nashville    TN        10                3   689248  0.000015   \n",
       "15      San Diego    CA        18                7  1385394  0.000013   \n",
       "16      Charlotte    NC        11                4   876747  0.000013   \n",
       "17   Philadelphia    PA        20                2  1601005  0.000012   \n",
       "18       San Jose    CA        12                2  1010908  0.000012   \n",
       "19   Indianapolis    IN        10                2   887382  0.000011   \n",
       "20         Dallas    TX        12                1  1303234  0.000009   \n",
       "21        Chicago    IL        23                2  2741730  0.000008   \n",
       "22  San Francisco    CA         7                2   870014  0.000008   \n",
       "23         Boston    MA         5                1   674272  0.000007   \n",
       "24       New York    NY        32                6  8772978  0.000004   \n",
       "\n",
       "         mhp  \n",
       "0   0.285714  \n",
       "1   0.060606  \n",
       "2   0.085714  \n",
       "3   0.200000  \n",
       "4   0.102041  \n",
       "5   0.210526  \n",
       "6   0.269231  \n",
       "7   0.183333  \n",
       "8   0.000000  \n",
       "9   0.104651  \n",
       "10  0.350000  \n",
       "11  0.166667  \n",
       "12  0.187500  \n",
       "13  0.166667  \n",
       "14  0.300000  \n",
       "15  0.388889  \n",
       "16  0.363636  \n",
       "17  0.100000  \n",
       "18  0.166667  \n",
       "19  0.200000  \n",
       "20  0.083333  \n",
       "21  0.086957  \n",
       "22  0.285714  \n",
       "23  0.200000  \n",
       "24  0.187500  "
      ]
     },
     "execution_count": 25,
     "metadata": {},
     "output_type": "execute_result"
    }
   ],
   "source": [
    "# recalculate tables, isolating from 2017-present to match WSJ claims.\n",
    "killings_wsj = pd.pivot_table(df.loc[(df.date>'2017-12-01')], index=['city','state'], aggfunc='count').sort_values('agency_ids', ascending=False).reset_index()[['city','state','agency_ids']]\n",
    "mental_wsj = pd.pivot_table(df.loc[((df.date>'2017-12-01')&(df.was_mental_illness_related==True))], index=['city','state'], aggfunc='count').sort_values('was_mental_illness_related', ascending=False).reset_index()[['city','state','was_mental_illness_related']]\n",
    "\n",
    "# merge\n",
    "killings_wsj = killings_wsj.merge(mental_wsj, on=['city','state'],how='outer').fillna(0)\n",
    "killings_wsj.columns = ['city','state','killings','mental_incident']\n",
    "killings_wsj.mental_incident = killings_wsj.mental_incident.astype(int)\n",
    "\n",
    "# merge with population data\n",
    "killings_wsj = killings_wsj.merge(pop, on=['city','state'], how='left')\n",
    "killings_wsj = killings_wsj.sort_values('pop', ascending=False).head(100)\n",
    "\n",
    "# generate variablesa\n",
    "killings_wsj['pop'] = killings_wsj['pop'].astype(int)\n",
    "killings_wsj['kpc'] = killings_wsj.killings / killings_wsj['pop']\n",
    "killings_wsj['mhp'] = killings_wsj.mental_incident / killings_wsj.killings\n",
    "\n",
    "# display killings per capita, 25 largest US cities, 2017-present\n",
    "killings_wsj.head(25).sort_values(['kpc'], ascending = False).reset_index(drop=True)"
   ]
  },
  {
   "cell_type": "code",
   "execution_count": 24,
   "metadata": {},
   "outputs": [
    {
     "data": {
      "text/html": [
       "<div>\n",
       "<style scoped>\n",
       "    .dataframe tbody tr th:only-of-type {\n",
       "        vertical-align: middle;\n",
       "    }\n",
       "\n",
       "    .dataframe tbody tr th {\n",
       "        vertical-align: top;\n",
       "    }\n",
       "\n",
       "    .dataframe thead th {\n",
       "        text-align: right;\n",
       "    }\n",
       "</style>\n",
       "<table border=\"1\" class=\"dataframe\">\n",
       "  <thead>\n",
       "    <tr style=\"text-align: right;\">\n",
       "      <th></th>\n",
       "      <th>city</th>\n",
       "      <th>state</th>\n",
       "      <th>killings</th>\n",
       "      <th>mental_incident</th>\n",
       "      <th>pop</th>\n",
       "      <th>kpc</th>\n",
       "      <th>mhp</th>\n",
       "    </tr>\n",
       "  </thead>\n",
       "  <tbody>\n",
       "    <tr>\n",
       "      <th>0</th>\n",
       "      <td>San Diego</td>\n",
       "      <td>CA</td>\n",
       "      <td>18</td>\n",
       "      <td>7</td>\n",
       "      <td>1385394</td>\n",
       "      <td>0.000013</td>\n",
       "      <td>0.388889</td>\n",
       "    </tr>\n",
       "    <tr>\n",
       "      <th>1</th>\n",
       "      <td>Charlotte</td>\n",
       "      <td>NC</td>\n",
       "      <td>11</td>\n",
       "      <td>4</td>\n",
       "      <td>876747</td>\n",
       "      <td>0.000013</td>\n",
       "      <td>0.363636</td>\n",
       "    </tr>\n",
       "    <tr>\n",
       "      <th>2</th>\n",
       "      <td>Austin</td>\n",
       "      <td>TX</td>\n",
       "      <td>20</td>\n",
       "      <td>7</td>\n",
       "      <td>963121</td>\n",
       "      <td>0.000021</td>\n",
       "      <td>0.350000</td>\n",
       "    </tr>\n",
       "    <tr>\n",
       "      <th>3</th>\n",
       "      <td>Nashville</td>\n",
       "      <td>TN</td>\n",
       "      <td>10</td>\n",
       "      <td>3</td>\n",
       "      <td>689248</td>\n",
       "      <td>0.000015</td>\n",
       "      <td>0.300000</td>\n",
       "    </tr>\n",
       "    <tr>\n",
       "      <th>4</th>\n",
       "      <td>Las Vegas</td>\n",
       "      <td>NV</td>\n",
       "      <td>42</td>\n",
       "      <td>12</td>\n",
       "      <td>643292</td>\n",
       "      <td>0.000065</td>\n",
       "      <td>0.285714</td>\n",
       "    </tr>\n",
       "    <tr>\n",
       "      <th>5</th>\n",
       "      <td>San Francisco</td>\n",
       "      <td>CA</td>\n",
       "      <td>7</td>\n",
       "      <td>2</td>\n",
       "      <td>870014</td>\n",
       "      <td>0.000008</td>\n",
       "      <td>0.285714</td>\n",
       "    </tr>\n",
       "    <tr>\n",
       "      <th>6</th>\n",
       "      <td>Jacksonville</td>\n",
       "      <td>FL</td>\n",
       "      <td>26</td>\n",
       "      <td>7</td>\n",
       "      <td>950463</td>\n",
       "      <td>0.000027</td>\n",
       "      <td>0.269231</td>\n",
       "    </tr>\n",
       "    <tr>\n",
       "      <th>7</th>\n",
       "      <td>Portland</td>\n",
       "      <td>OR</td>\n",
       "      <td>19</td>\n",
       "      <td>4</td>\n",
       "      <td>652388</td>\n",
       "      <td>0.000029</td>\n",
       "      <td>0.210526</td>\n",
       "    </tr>\n",
       "    <tr>\n",
       "      <th>8</th>\n",
       "      <td>Boston</td>\n",
       "      <td>MA</td>\n",
       "      <td>5</td>\n",
       "      <td>1</td>\n",
       "      <td>674272</td>\n",
       "      <td>0.000007</td>\n",
       "      <td>0.200000</td>\n",
       "    </tr>\n",
       "    <tr>\n",
       "      <th>9</th>\n",
       "      <td>Oklahoma City</td>\n",
       "      <td>OK</td>\n",
       "      <td>25</td>\n",
       "      <td>5</td>\n",
       "      <td>682760</td>\n",
       "      <td>0.000037</td>\n",
       "      <td>0.200000</td>\n",
       "    </tr>\n",
       "    <tr>\n",
       "      <th>10</th>\n",
       "      <td>Indianapolis</td>\n",
       "      <td>IN</td>\n",
       "      <td>10</td>\n",
       "      <td>2</td>\n",
       "      <td>887382</td>\n",
       "      <td>0.000011</td>\n",
       "      <td>0.200000</td>\n",
       "    </tr>\n",
       "    <tr>\n",
       "      <th>11</th>\n",
       "      <td>New York</td>\n",
       "      <td>NY</td>\n",
       "      <td>32</td>\n",
       "      <td>6</td>\n",
       "      <td>8772978</td>\n",
       "      <td>0.000004</td>\n",
       "      <td>0.187500</td>\n",
       "    </tr>\n",
       "    <tr>\n",
       "      <th>12</th>\n",
       "      <td>Fort Worth</td>\n",
       "      <td>TX</td>\n",
       "      <td>16</td>\n",
       "      <td>3</td>\n",
       "      <td>922592</td>\n",
       "      <td>0.000017</td>\n",
       "      <td>0.187500</td>\n",
       "    </tr>\n",
       "    <tr>\n",
       "      <th>13</th>\n",
       "      <td>Houston</td>\n",
       "      <td>TX</td>\n",
       "      <td>60</td>\n",
       "      <td>11</td>\n",
       "      <td>2300027</td>\n",
       "      <td>0.000026</td>\n",
       "      <td>0.183333</td>\n",
       "    </tr>\n",
       "    <tr>\n",
       "      <th>14</th>\n",
       "      <td>San Jose</td>\n",
       "      <td>CA</td>\n",
       "      <td>12</td>\n",
       "      <td>2</td>\n",
       "      <td>1010908</td>\n",
       "      <td>0.000012</td>\n",
       "      <td>0.166667</td>\n",
       "    </tr>\n",
       "    <tr>\n",
       "      <th>15</th>\n",
       "      <td>Seattle</td>\n",
       "      <td>WA</td>\n",
       "      <td>12</td>\n",
       "      <td>2</td>\n",
       "      <td>738172</td>\n",
       "      <td>0.000016</td>\n",
       "      <td>0.166667</td>\n",
       "    </tr>\n",
       "    <tr>\n",
       "      <th>16</th>\n",
       "      <td>El Paso</td>\n",
       "      <td>TX</td>\n",
       "      <td>12</td>\n",
       "      <td>2</td>\n",
       "      <td>678598</td>\n",
       "      <td>0.000018</td>\n",
       "      <td>0.166667</td>\n",
       "    </tr>\n",
       "    <tr>\n",
       "      <th>17</th>\n",
       "      <td>Los Angeles</td>\n",
       "      <td>CA</td>\n",
       "      <td>86</td>\n",
       "      <td>9</td>\n",
       "      <td>3889834</td>\n",
       "      <td>0.000022</td>\n",
       "      <td>0.104651</td>\n",
       "    </tr>\n",
       "    <tr>\n",
       "      <th>18</th>\n",
       "      <td>San Antonio</td>\n",
       "      <td>TX</td>\n",
       "      <td>49</td>\n",
       "      <td>5</td>\n",
       "      <td>1438227</td>\n",
       "      <td>0.000034</td>\n",
       "      <td>0.102041</td>\n",
       "    </tr>\n",
       "    <tr>\n",
       "      <th>19</th>\n",
       "      <td>Philadelphia</td>\n",
       "      <td>PA</td>\n",
       "      <td>20</td>\n",
       "      <td>2</td>\n",
       "      <td>1601005</td>\n",
       "      <td>0.000012</td>\n",
       "      <td>0.100000</td>\n",
       "    </tr>\n",
       "    <tr>\n",
       "      <th>20</th>\n",
       "      <td>Chicago</td>\n",
       "      <td>IL</td>\n",
       "      <td>23</td>\n",
       "      <td>2</td>\n",
       "      <td>2741730</td>\n",
       "      <td>0.000008</td>\n",
       "      <td>0.086957</td>\n",
       "    </tr>\n",
       "    <tr>\n",
       "      <th>21</th>\n",
       "      <td>Phoenix</td>\n",
       "      <td>AZ</td>\n",
       "      <td>70</td>\n",
       "      <td>6</td>\n",
       "      <td>1611345</td>\n",
       "      <td>0.000043</td>\n",
       "      <td>0.085714</td>\n",
       "    </tr>\n",
       "    <tr>\n",
       "      <th>22</th>\n",
       "      <td>Dallas</td>\n",
       "      <td>TX</td>\n",
       "      <td>12</td>\n",
       "      <td>1</td>\n",
       "      <td>1303234</td>\n",
       "      <td>0.000009</td>\n",
       "      <td>0.083333</td>\n",
       "    </tr>\n",
       "    <tr>\n",
       "      <th>23</th>\n",
       "      <td>Denver</td>\n",
       "      <td>CO</td>\n",
       "      <td>33</td>\n",
       "      <td>2</td>\n",
       "      <td>717630</td>\n",
       "      <td>0.000046</td>\n",
       "      <td>0.060606</td>\n",
       "    </tr>\n",
       "    <tr>\n",
       "      <th>24</th>\n",
       "      <td>Columbus</td>\n",
       "      <td>OH</td>\n",
       "      <td>23</td>\n",
       "      <td>0</td>\n",
       "      <td>905860</td>\n",
       "      <td>0.000025</td>\n",
       "      <td>0.000000</td>\n",
       "    </tr>\n",
       "  </tbody>\n",
       "</table>\n",
       "</div>"
      ],
      "text/plain": [
       "             city state  killings  mental_incident      pop       kpc  \\\n",
       "0       San Diego    CA        18                7  1385394  0.000013   \n",
       "1       Charlotte    NC        11                4   876747  0.000013   \n",
       "2          Austin    TX        20                7   963121  0.000021   \n",
       "3       Nashville    TN        10                3   689248  0.000015   \n",
       "4       Las Vegas    NV        42               12   643292  0.000065   \n",
       "5   San Francisco    CA         7                2   870014  0.000008   \n",
       "6    Jacksonville    FL        26                7   950463  0.000027   \n",
       "7        Portland    OR        19                4   652388  0.000029   \n",
       "8          Boston    MA         5                1   674272  0.000007   \n",
       "9   Oklahoma City    OK        25                5   682760  0.000037   \n",
       "10   Indianapolis    IN        10                2   887382  0.000011   \n",
       "11       New York    NY        32                6  8772978  0.000004   \n",
       "12     Fort Worth    TX        16                3   922592  0.000017   \n",
       "13        Houston    TX        60               11  2300027  0.000026   \n",
       "14       San Jose    CA        12                2  1010908  0.000012   \n",
       "15        Seattle    WA        12                2   738172  0.000016   \n",
       "16        El Paso    TX        12                2   678598  0.000018   \n",
       "17    Los Angeles    CA        86                9  3889834  0.000022   \n",
       "18    San Antonio    TX        49                5  1438227  0.000034   \n",
       "19   Philadelphia    PA        20                2  1601005  0.000012   \n",
       "20        Chicago    IL        23                2  2741730  0.000008   \n",
       "21        Phoenix    AZ        70                6  1611345  0.000043   \n",
       "22         Dallas    TX        12                1  1303234  0.000009   \n",
       "23         Denver    CO        33                2   717630  0.000046   \n",
       "24       Columbus    OH        23                0   905860  0.000025   \n",
       "\n",
       "         mhp  \n",
       "0   0.388889  \n",
       "1   0.363636  \n",
       "2   0.350000  \n",
       "3   0.300000  \n",
       "4   0.285714  \n",
       "5   0.285714  \n",
       "6   0.269231  \n",
       "7   0.210526  \n",
       "8   0.200000  \n",
       "9   0.200000  \n",
       "10  0.200000  \n",
       "11  0.187500  \n",
       "12  0.187500  \n",
       "13  0.183333  \n",
       "14  0.166667  \n",
       "15  0.166667  \n",
       "16  0.166667  \n",
       "17  0.104651  \n",
       "18  0.102041  \n",
       "19  0.100000  \n",
       "20  0.086957  \n",
       "21  0.085714  \n",
       "22  0.083333  \n",
       "23  0.060606  \n",
       "24  0.000000  "
      ]
     },
     "execution_count": 24,
     "metadata": {},
     "output_type": "execute_result"
    }
   ],
   "source": [
    "# display mental health killings per capita, 25 largest US cities, 2017-present\n",
    "killings_wsj.head(25).sort_values('mhp', ascending = False).reset_index(drop=True)"
   ]
  },
  {
   "cell_type": "code",
   "execution_count": 23,
   "metadata": {},
   "outputs": [
    {
     "data": {
      "application/vnd.plotly.v1+json": {
       "config": {
        "plotlyServerURL": "https://plot.ly"
       },
       "data": [
        {
         "hovertemplate": "<b>%{hovertext}</b><br><br>Population=%{x}<br>Police Killings Since 2015=%{y}<extra></extra>",
         "hovertext": [
          "Los Angeles",
          "Chicago",
          "Houston",
          "Phoenix",
          "Philadelphia",
          "San Antonio",
          "San Diego",
          "Dallas",
          "San Jose",
          "Austin",
          "Jacksonville",
          "Fort Worth",
          "Columbus",
          "Indianapolis",
          "Charlotte",
          "San Francisco",
          "Seattle",
          "Denver",
          "Nashville",
          "Oklahoma City",
          "El Paso",
          "Boston",
          "Portland",
          "Las Vegas",
          "Detroit",
          "Memphis",
          "Baltimore",
          "Milwaukee",
          "Albuquerque",
          "Fresno",
          "Tucson",
          "Sacramento",
          "Kansas City",
          "Mesa",
          "Atlanta",
          "Omaha",
          "Colorado Springs",
          "Raleigh",
          "Long Beach",
          "Virginia Beach",
          "Miami",
          "Oakland",
          "Minneapolis",
          "Tulsa",
          "Bakersfield",
          "Wichita",
          "Arlington",
          "Aurora",
          "Tampa",
          "New Orleans",
          "Cleveland",
          "Anaheim",
          "Stockton",
          "Henderson",
          "Corpus Christi",
          "Riverside",
          "St. Paul",
          "Newark",
          "Cincinnati",
          "Santa Ana",
          "Orlando",
          "Irvine",
          "Pittsburgh",
          "St. Louis",
          "Greensboro",
          "Jersey City",
          "Lincoln",
          "Plano",
          "Durham",
          "Buffalo",
          "Chandler",
          "Chula Vista",
          "Toledo",
          "Gilbert",
          "Madison",
          "North Las Vegas",
          "Fort Wayne",
          "Reno",
          "St. Petersburg",
          "Lubbock",
          "Irving",
          "Laredo",
          "Chesapeake",
          "Winston-Salem",
          "Glendale",
          "Garland",
          "Scottsdale",
          "Norfolk",
          "Fremont",
          "Spokane",
          "Santa Clarita",
          "Richmond",
          "Baton Rouge",
          "Hialeah",
          "San Bernardino",
          "Tacoma",
          "Modesto",
          "Huntsville",
          "Des Moines"
         ],
         "legendgroup": "",
         "marker": {
          "color": "#636efa",
          "symbol": "circle"
         },
         "mode": "markers",
         "name": "",
         "orientation": "v",
         "showlegend": false,
         "type": "scatter",
         "x": [
          3889834,
          2741730,
          2300027,
          1611345,
          1601005,
          1438227,
          1385394,
          1303234,
          1010908,
          963121,
          950463,
          922592,
          905860,
          887382,
          876747,
          870014,
          738172,
          717630,
          689248,
          682760,
          678598,
          674272,
          652388,
          643292,
          638176,
          631326,
          583132,
          576301,
          564648,
          542159,
          541859,
          523416,
          507932,
          505860,
          499586,
          491168,
          480213,
          467425,
          464759,
          459373,
          441889,
          439341,
          429014,
          412629,
          403401,
          397117,
          393985,
          386580,
          383980,
          383282,
          372032,
          347089,
          320745,
          319055,
          317852,
          314655,
          310942,
          310350,
          310113,
          309888,
          307603,
          306389,
          302777,
          300528,
          297808,
          291927,
          291383,
          286668,
          284400,
          277908,
          277556,
          276466,
          270041,
          269206,
          268846,
          264216,
          264169,
          264116,
          258658,
          257882,
          256873,
          255336,
          249679,
          249349,
          248797,
          245478,
          241933,
          237591,
          231673,
          228850,
          228487,
          226670,
          224480,
          222153,
          221784,
          219383,
          218459,
          215043,
          213699
         ],
         "xaxis": "x",
         "y": [
          130,
          50,
          90,
          104,
          30,
          68,
          28,
          20,
          24,
          36,
          40,
          24,
          40,
          24,
          22,
          20,
          18,
          47,
          15,
          41,
          20,
          10,
          25,
          67,
          25,
          22,
          28,
          21,
          60,
          28,
          46,
          23,
          35,
          29,
          33,
          15,
          24,
          7,
          22,
          9,
          36,
          13,
          11,
          34,
          34,
          16,
          13,
          20,
          15,
          10,
          15,
          14,
          16,
          11,
          13,
          8,
          10,
          8,
          7,
          13,
          25,
          1,
          6,
          37,
          5,
          3,
          7,
          4,
          7,
          4,
          9,
          4,
          9,
          4,
          3,
          6,
          5,
          11,
          9,
          5,
          7,
          7,
          3,
          2,
          17,
          7,
          8,
          8,
          8,
          21,
          4,
          8,
          14,
          3,
          21,
          14,
          13,
          10,
          4
         ],
         "yaxis": "y"
        },
        {
         "hovertemplate": "<b>OLS trendline</b><br>killings = 3.09795e-05 * pop + 3.80873<br>R<sup>2</sup>=0.628717<br><br>Population=%{x}<br>Police Killings Since 2015=%{y} <b>(trend)</b><extra></extra>",
         "legendgroup": "",
         "marker": {
          "color": "#636efa",
          "symbol": "circle"
         },
         "mode": "lines",
         "name": "",
         "showlegend": false,
         "type": "scatter",
         "x": [
          213699,
          215043,
          218459,
          219383,
          221784,
          222153,
          224480,
          226670,
          228487,
          228850,
          231673,
          237591,
          241933,
          245478,
          248797,
          249349,
          249679,
          255336,
          256873,
          257882,
          258658,
          264116,
          264169,
          264216,
          268846,
          269206,
          270041,
          276466,
          277556,
          277908,
          284400,
          286668,
          291383,
          291927,
          297808,
          300528,
          302777,
          306389,
          307603,
          309888,
          310113,
          310350,
          310942,
          314655,
          317852,
          319055,
          320745,
          347089,
          372032,
          383282,
          383980,
          386580,
          393985,
          397117,
          403401,
          412629,
          429014,
          439341,
          441889,
          459373,
          464759,
          467425,
          480213,
          491168,
          499586,
          505860,
          507932,
          523416,
          541859,
          542159,
          564648,
          576301,
          583132,
          631326,
          638176,
          643292,
          652388,
          674272,
          678598,
          682760,
          689248,
          717630,
          738172,
          870014,
          876747,
          887382,
          905860,
          922592,
          950463,
          963121,
          1010908,
          1303234,
          1385394,
          1438227,
          1601005,
          1611345,
          2300027,
          2741730,
          3889834
         ],
         "xaxis": "x",
         "y": [
          10.429015131006654,
          10.470651569561864,
          10.576477517556356,
          10.60510256906306,
          10.679484331690336,
          10.690915764597236,
          10.763005044744535,
          10.830850134354588,
          10.887139873085848,
          10.898385429034912,
          10.985840537696635,
          11.169177177108637,
          11.303690135595778,
          11.413512438183737,
          11.516333375359881,
          11.533434055480772,
          11.54365728816174,
          11.718908279907884,
          11.766523760606809,
          11.79778206901619,
          11.821822155562948,
          11.990908228207541,
          11.992550141335089,
          11.994006177504803,
          12.137441229968061,
          12.148593847438207,
          12.17446172407035,
          12.373504966419471,
          12.407272613759634,
          12.418177395285998,
          12.619296263664285,
          12.689557753726202,
          12.835626063092134,
          12.852478907269242,
          13.034669305441255,
          13.1189335263268,
          13.188606406022235,
          13.30050433463936,
          13.338113439108128,
          13.408901580550578,
          13.41587196646942,
          13.42321410630393,
          13.441553966143726,
          13.556580823551085,
          13.655622262584572,
          13.69289059263064,
          13.745245935754378,
          14.561369698625239,
          15.334091191841448,
          15.68261048778349,
          15.704234173878383,
          15.784780855607211,
          16.01418400106951,
          16.11121177305977,
          16.305886906899755,
          16.591765668051146,
          17.099364660407623,
          17.41928988433593,
          17.498225632430184,
          18.039871087563576,
          18.20672663671414,
          18.289317964979162,
          18.6854837211131,
          19.02486406662822,
          19.285649438471786,
          19.480014777382042,
          19.544204286821323,
          20.023890756009465,
          20.595245544903605,
          20.604539392795395,
          21.30123721025678,
          21.662241241866788,
          21.873862158362797,
          23.366887842685536,
          23.579097369548023,
          23.737588455595976,
          24.019377923674988,
          24.69733314788793,
          24.83135043448751,
          24.96028708423958,
          25.16128203464598,
          26.040542004195053,
          26.676922748838734,
          30.761321061335693,
          30.969905987520384,
          31.299372895284264,
          31.871811966432446,
          32.39016084285042,
          33.25359029149048,
          33.645728713537984,
          35.126145744220864,
          44.18225700693673,
          46.72753214956768,
          48.364271701790436,
          53.40705160888855,
          53.7273795662255,
          75.06239874559952,
          88.74613373008735,
          124.31381352993117
         ],
         "yaxis": "y"
        },
        {
         "hovertemplate": "<b>Austin, Texas</b><br>Population: %{x}<br>Police Killings: %{y}",
         "marker": {
          "size": 15,
          "symbol": "cross"
         },
         "mode": "markers",
         "name": "Austin",
         "type": "scatter",
         "x": [
          963121
         ],
         "y": [
          36
         ]
        },
        {
         "hovertemplate": "<b>New York, NY</b><br>Population: %{x}<br>Police Killings: %{y}",
         "marker": {
          "color": "red",
          "symbol": "circle"
         },
         "mode": "markers",
         "name": "New York",
         "showlegend": false,
         "type": "scatter",
         "x": [
          8772978
         ],
         "y": [
          43
         ]
        }
       ],
       "layout": {
        "legend": {
         "title": {},
         "tracegroupgap": 0,
         "x": 0.05,
         "xanchor": "left"
        },
        "margin": {
         "t": 60
        },
        "template": {
         "data": {
          "bar": [
           {
            "error_x": {
             "color": "#2a3f5f"
            },
            "error_y": {
             "color": "#2a3f5f"
            },
            "marker": {
             "line": {
              "color": "white",
              "width": 0.5
             },
             "pattern": {
              "fillmode": "overlay",
              "size": 10,
              "solidity": 0.2
             }
            },
            "type": "bar"
           }
          ],
          "barpolar": [
           {
            "marker": {
             "line": {
              "color": "white",
              "width": 0.5
             },
             "pattern": {
              "fillmode": "overlay",
              "size": 10,
              "solidity": 0.2
             }
            },
            "type": "barpolar"
           }
          ],
          "carpet": [
           {
            "aaxis": {
             "endlinecolor": "#2a3f5f",
             "gridcolor": "#C8D4E3",
             "linecolor": "#C8D4E3",
             "minorgridcolor": "#C8D4E3",
             "startlinecolor": "#2a3f5f"
            },
            "baxis": {
             "endlinecolor": "#2a3f5f",
             "gridcolor": "#C8D4E3",
             "linecolor": "#C8D4E3",
             "minorgridcolor": "#C8D4E3",
             "startlinecolor": "#2a3f5f"
            },
            "type": "carpet"
           }
          ],
          "choropleth": [
           {
            "colorbar": {
             "outlinewidth": 0,
             "ticks": ""
            },
            "type": "choropleth"
           }
          ],
          "contour": [
           {
            "colorbar": {
             "outlinewidth": 0,
             "ticks": ""
            },
            "colorscale": [
             [
              0,
              "#0d0887"
             ],
             [
              0.1111111111111111,
              "#46039f"
             ],
             [
              0.2222222222222222,
              "#7201a8"
             ],
             [
              0.3333333333333333,
              "#9c179e"
             ],
             [
              0.4444444444444444,
              "#bd3786"
             ],
             [
              0.5555555555555556,
              "#d8576b"
             ],
             [
              0.6666666666666666,
              "#ed7953"
             ],
             [
              0.7777777777777778,
              "#fb9f3a"
             ],
             [
              0.8888888888888888,
              "#fdca26"
             ],
             [
              1,
              "#f0f921"
             ]
            ],
            "type": "contour"
           }
          ],
          "contourcarpet": [
           {
            "colorbar": {
             "outlinewidth": 0,
             "ticks": ""
            },
            "type": "contourcarpet"
           }
          ],
          "heatmap": [
           {
            "colorbar": {
             "outlinewidth": 0,
             "ticks": ""
            },
            "colorscale": [
             [
              0,
              "#0d0887"
             ],
             [
              0.1111111111111111,
              "#46039f"
             ],
             [
              0.2222222222222222,
              "#7201a8"
             ],
             [
              0.3333333333333333,
              "#9c179e"
             ],
             [
              0.4444444444444444,
              "#bd3786"
             ],
             [
              0.5555555555555556,
              "#d8576b"
             ],
             [
              0.6666666666666666,
              "#ed7953"
             ],
             [
              0.7777777777777778,
              "#fb9f3a"
             ],
             [
              0.8888888888888888,
              "#fdca26"
             ],
             [
              1,
              "#f0f921"
             ]
            ],
            "type": "heatmap"
           }
          ],
          "heatmapgl": [
           {
            "colorbar": {
             "outlinewidth": 0,
             "ticks": ""
            },
            "colorscale": [
             [
              0,
              "#0d0887"
             ],
             [
              0.1111111111111111,
              "#46039f"
             ],
             [
              0.2222222222222222,
              "#7201a8"
             ],
             [
              0.3333333333333333,
              "#9c179e"
             ],
             [
              0.4444444444444444,
              "#bd3786"
             ],
             [
              0.5555555555555556,
              "#d8576b"
             ],
             [
              0.6666666666666666,
              "#ed7953"
             ],
             [
              0.7777777777777778,
              "#fb9f3a"
             ],
             [
              0.8888888888888888,
              "#fdca26"
             ],
             [
              1,
              "#f0f921"
             ]
            ],
            "type": "heatmapgl"
           }
          ],
          "histogram": [
           {
            "marker": {
             "pattern": {
              "fillmode": "overlay",
              "size": 10,
              "solidity": 0.2
             }
            },
            "type": "histogram"
           }
          ],
          "histogram2d": [
           {
            "colorbar": {
             "outlinewidth": 0,
             "ticks": ""
            },
            "colorscale": [
             [
              0,
              "#0d0887"
             ],
             [
              0.1111111111111111,
              "#46039f"
             ],
             [
              0.2222222222222222,
              "#7201a8"
             ],
             [
              0.3333333333333333,
              "#9c179e"
             ],
             [
              0.4444444444444444,
              "#bd3786"
             ],
             [
              0.5555555555555556,
              "#d8576b"
             ],
             [
              0.6666666666666666,
              "#ed7953"
             ],
             [
              0.7777777777777778,
              "#fb9f3a"
             ],
             [
              0.8888888888888888,
              "#fdca26"
             ],
             [
              1,
              "#f0f921"
             ]
            ],
            "type": "histogram2d"
           }
          ],
          "histogram2dcontour": [
           {
            "colorbar": {
             "outlinewidth": 0,
             "ticks": ""
            },
            "colorscale": [
             [
              0,
              "#0d0887"
             ],
             [
              0.1111111111111111,
              "#46039f"
             ],
             [
              0.2222222222222222,
              "#7201a8"
             ],
             [
              0.3333333333333333,
              "#9c179e"
             ],
             [
              0.4444444444444444,
              "#bd3786"
             ],
             [
              0.5555555555555556,
              "#d8576b"
             ],
             [
              0.6666666666666666,
              "#ed7953"
             ],
             [
              0.7777777777777778,
              "#fb9f3a"
             ],
             [
              0.8888888888888888,
              "#fdca26"
             ],
             [
              1,
              "#f0f921"
             ]
            ],
            "type": "histogram2dcontour"
           }
          ],
          "mesh3d": [
           {
            "colorbar": {
             "outlinewidth": 0,
             "ticks": ""
            },
            "type": "mesh3d"
           }
          ],
          "parcoords": [
           {
            "line": {
             "colorbar": {
              "outlinewidth": 0,
              "ticks": ""
             }
            },
            "type": "parcoords"
           }
          ],
          "pie": [
           {
            "automargin": true,
            "type": "pie"
           }
          ],
          "scatter": [
           {
            "fillpattern": {
             "fillmode": "overlay",
             "size": 10,
             "solidity": 0.2
            },
            "type": "scatter"
           }
          ],
          "scatter3d": [
           {
            "line": {
             "colorbar": {
              "outlinewidth": 0,
              "ticks": ""
             }
            },
            "marker": {
             "colorbar": {
              "outlinewidth": 0,
              "ticks": ""
             }
            },
            "type": "scatter3d"
           }
          ],
          "scattercarpet": [
           {
            "marker": {
             "colorbar": {
              "outlinewidth": 0,
              "ticks": ""
             }
            },
            "type": "scattercarpet"
           }
          ],
          "scattergeo": [
           {
            "marker": {
             "colorbar": {
              "outlinewidth": 0,
              "ticks": ""
             }
            },
            "type": "scattergeo"
           }
          ],
          "scattergl": [
           {
            "marker": {
             "colorbar": {
              "outlinewidth": 0,
              "ticks": ""
             }
            },
            "type": "scattergl"
           }
          ],
          "scattermapbox": [
           {
            "marker": {
             "colorbar": {
              "outlinewidth": 0,
              "ticks": ""
             }
            },
            "type": "scattermapbox"
           }
          ],
          "scatterpolar": [
           {
            "marker": {
             "colorbar": {
              "outlinewidth": 0,
              "ticks": ""
             }
            },
            "type": "scatterpolar"
           }
          ],
          "scatterpolargl": [
           {
            "marker": {
             "colorbar": {
              "outlinewidth": 0,
              "ticks": ""
             }
            },
            "type": "scatterpolargl"
           }
          ],
          "scatterternary": [
           {
            "marker": {
             "colorbar": {
              "outlinewidth": 0,
              "ticks": ""
             }
            },
            "type": "scatterternary"
           }
          ],
          "surface": [
           {
            "colorbar": {
             "outlinewidth": 0,
             "ticks": ""
            },
            "colorscale": [
             [
              0,
              "#0d0887"
             ],
             [
              0.1111111111111111,
              "#46039f"
             ],
             [
              0.2222222222222222,
              "#7201a8"
             ],
             [
              0.3333333333333333,
              "#9c179e"
             ],
             [
              0.4444444444444444,
              "#bd3786"
             ],
             [
              0.5555555555555556,
              "#d8576b"
             ],
             [
              0.6666666666666666,
              "#ed7953"
             ],
             [
              0.7777777777777778,
              "#fb9f3a"
             ],
             [
              0.8888888888888888,
              "#fdca26"
             ],
             [
              1,
              "#f0f921"
             ]
            ],
            "type": "surface"
           }
          ],
          "table": [
           {
            "cells": {
             "fill": {
              "color": "#EBF0F8"
             },
             "line": {
              "color": "white"
             }
            },
            "header": {
             "fill": {
              "color": "#C8D4E3"
             },
             "line": {
              "color": "white"
             }
            },
            "type": "table"
           }
          ]
         },
         "layout": {
          "annotationdefaults": {
           "arrowcolor": "#2a3f5f",
           "arrowhead": 0,
           "arrowwidth": 1
          },
          "autotypenumbers": "strict",
          "coloraxis": {
           "colorbar": {
            "outlinewidth": 0,
            "ticks": ""
           }
          },
          "colorscale": {
           "diverging": [
            [
             0,
             "#8e0152"
            ],
            [
             0.1,
             "#c51b7d"
            ],
            [
             0.2,
             "#de77ae"
            ],
            [
             0.3,
             "#f1b6da"
            ],
            [
             0.4,
             "#fde0ef"
            ],
            [
             0.5,
             "#f7f7f7"
            ],
            [
             0.6,
             "#e6f5d0"
            ],
            [
             0.7,
             "#b8e186"
            ],
            [
             0.8,
             "#7fbc41"
            ],
            [
             0.9,
             "#4d9221"
            ],
            [
             1,
             "#276419"
            ]
           ],
           "sequential": [
            [
             0,
             "#0d0887"
            ],
            [
             0.1111111111111111,
             "#46039f"
            ],
            [
             0.2222222222222222,
             "#7201a8"
            ],
            [
             0.3333333333333333,
             "#9c179e"
            ],
            [
             0.4444444444444444,
             "#bd3786"
            ],
            [
             0.5555555555555556,
             "#d8576b"
            ],
            [
             0.6666666666666666,
             "#ed7953"
            ],
            [
             0.7777777777777778,
             "#fb9f3a"
            ],
            [
             0.8888888888888888,
             "#fdca26"
            ],
            [
             1,
             "#f0f921"
            ]
           ],
           "sequentialminus": [
            [
             0,
             "#0d0887"
            ],
            [
             0.1111111111111111,
             "#46039f"
            ],
            [
             0.2222222222222222,
             "#7201a8"
            ],
            [
             0.3333333333333333,
             "#9c179e"
            ],
            [
             0.4444444444444444,
             "#bd3786"
            ],
            [
             0.5555555555555556,
             "#d8576b"
            ],
            [
             0.6666666666666666,
             "#ed7953"
            ],
            [
             0.7777777777777778,
             "#fb9f3a"
            ],
            [
             0.8888888888888888,
             "#fdca26"
            ],
            [
             1,
             "#f0f921"
            ]
           ]
          },
          "colorway": [
           "#636efa",
           "#EF553B",
           "#00cc96",
           "#ab63fa",
           "#FFA15A",
           "#19d3f3",
           "#FF6692",
           "#B6E880",
           "#FF97FF",
           "#FECB52"
          ],
          "font": {
           "color": "#2a3f5f"
          },
          "geo": {
           "bgcolor": "white",
           "lakecolor": "white",
           "landcolor": "white",
           "showlakes": true,
           "showland": true,
           "subunitcolor": "#C8D4E3"
          },
          "hoverlabel": {
           "align": "left"
          },
          "hovermode": "closest",
          "mapbox": {
           "style": "light"
          },
          "paper_bgcolor": "white",
          "plot_bgcolor": "white",
          "polar": {
           "angularaxis": {
            "gridcolor": "#EBF0F8",
            "linecolor": "#EBF0F8",
            "ticks": ""
           },
           "bgcolor": "white",
           "radialaxis": {
            "gridcolor": "#EBF0F8",
            "linecolor": "#EBF0F8",
            "ticks": ""
           }
          },
          "scene": {
           "xaxis": {
            "backgroundcolor": "white",
            "gridcolor": "#DFE8F3",
            "gridwidth": 2,
            "linecolor": "#EBF0F8",
            "showbackground": true,
            "ticks": "",
            "zerolinecolor": "#EBF0F8"
           },
           "yaxis": {
            "backgroundcolor": "white",
            "gridcolor": "#DFE8F3",
            "gridwidth": 2,
            "linecolor": "#EBF0F8",
            "showbackground": true,
            "ticks": "",
            "zerolinecolor": "#EBF0F8"
           },
           "zaxis": {
            "backgroundcolor": "white",
            "gridcolor": "#DFE8F3",
            "gridwidth": 2,
            "linecolor": "#EBF0F8",
            "showbackground": true,
            "ticks": "",
            "zerolinecolor": "#EBF0F8"
           }
          },
          "shapedefaults": {
           "line": {
            "color": "#2a3f5f"
           }
          },
          "ternary": {
           "aaxis": {
            "gridcolor": "#DFE8F3",
            "linecolor": "#A2B1C6",
            "ticks": ""
           },
           "baxis": {
            "gridcolor": "#DFE8F3",
            "linecolor": "#A2B1C6",
            "ticks": ""
           },
           "bgcolor": "white",
           "caxis": {
            "gridcolor": "#DFE8F3",
            "linecolor": "#A2B1C6",
            "ticks": ""
           }
          },
          "title": {
           "x": 0.05
          },
          "xaxis": {
           "automargin": true,
           "gridcolor": "#EBF0F8",
           "linecolor": "#EBF0F8",
           "ticks": "",
           "title": {
            "standoff": 15
           },
           "zerolinecolor": "#EBF0F8",
           "zerolinewidth": 2
          },
          "yaxis": {
           "automargin": true,
           "gridcolor": "#EBF0F8",
           "linecolor": "#EBF0F8",
           "ticks": "",
           "title": {
            "standoff": 15
           },
           "zerolinecolor": "#EBF0F8",
           "zerolinewidth": 2
          }
         }
        },
        "xaxis": {
         "anchor": "y",
         "domain": [
          0,
          1
         ],
         "title": {
          "text": "Population"
         },
         "type": "log"
        },
        "yaxis": {
         "anchor": "x",
         "domain": [
          0,
          1
         ],
         "title": {
          "text": "Police Killings Since 2015"
         }
        }
       }
      }
     },
     "metadata": {},
     "output_type": "display_data"
    }
   ],
   "source": [
    "# generate scatter plot with OLS regression line, dropping New York\n",
    "fig_kills = px.scatter(killings_all.drop(index=9), x='pop',y='killings',hover_name='city', log_x=True, trendline='ols', color_discrete_map={'963121':'r'}, labels={'pop':'Population','killings':'Police Killings Since 2015'})\n",
    "\n",
    "# add Austin with distinct marker\n",
    "fig_kills.add_trace(go.Scatter(x= [963121], y = [36], mode='markers', marker_size=15, name='Austin', marker_symbol='cross', hovertemplate='<b>Austin, Texas</b><br>Population: %{x}<br>Police Killings: %{y}'))\n",
    "fig_kills.update_layout(legend=dict(title=None, xanchor='left', x=.05))\n",
    "\n",
    "# add New York in red\n",
    "fig_kills.add_trace(go.Scatter(x= [8772978], y = [43], mode='markers', name='New York', marker_symbol='circle', hovertemplate='<b>New York, NY</b><br>Population: %{x}<br>Police Killings: %{y}', marker_color='red', showlegend=False))\n",
    "\n",
    "fig_kills\n",
    "# fig_kills.write_html('charts/cityscatter.html', config= {'displaylogo': False})"
   ]
  }
 ],
 "metadata": {
  "kernelspec": {
   "display_name": "police-shootings",
   "language": "python",
   "name": "python3"
  },
  "language_info": {
   "codemirror_mode": {
    "name": "ipython",
    "version": 3
   },
   "file_extension": ".py",
   "mimetype": "text/x-python",
   "name": "python",
   "nbconvert_exporter": "python",
   "pygments_lexer": "ipython3",
   "version": "3.9.15"
  },
  "orig_nbformat": 4,
  "vscode": {
   "interpreter": {
    "hash": "be799d79aae8a8a0cc9ee565fe4b77617e6f11a0afc539cd3b3d020bb09c3dc5"
   }
  }
 },
 "nbformat": 4,
 "nbformat_minor": 2
}
